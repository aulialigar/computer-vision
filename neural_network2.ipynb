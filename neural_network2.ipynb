{
  "nbformat": 4,
  "nbformat_minor": 0,
  "metadata": {
    "colab": {
      "name": "neural_network2.ipynb",
      "provenance": [],
      "collapsed_sections": [],
      "include_colab_link": true
    },
    "kernelspec": {
      "name": "python3",
      "display_name": "Python 3"
    },
    "language_info": {
      "name": "python"
    },
    "accelerator": "GPU"
  },
  "cells": [
    {
      "cell_type": "markdown",
      "metadata": {
        "id": "view-in-github",
        "colab_type": "text"
      },
      "source": [
        "<a href=\"https://colab.research.google.com/github/aulialigar/computer-vision/blob/main/neural_network2.ipynb\" target=\"_parent\"><img src=\"https://colab.research.google.com/assets/colab-badge.svg\" alt=\"Open In Colab\"/></a>"
      ]
    },
    {
      "cell_type": "code",
      "metadata": {
        "colab": {
          "base_uri": "https://localhost:8080/"
        },
        "id": "HbEtzsONCbXH",
        "outputId": "62bc38cb-b025-4a0f-d9a4-d9ec61d7377a"
      },
      "source": [
        "import os\n",
        "from google.colab import drive\n",
        "drive.mount('/content/drive/')\n",
        "\n",
        "os.chdir('/content/drive/My Drive/TKC')\n",
        "!ls -a"
      ],
      "execution_count": 1,
      "outputs": [
        {
          "output_type": "stream",
          "name": "stdout",
          "text": [
            "Mounted at /content/drive/\n",
            "1  2  3\n"
          ]
        }
      ]
    },
    {
      "cell_type": "code",
      "metadata": {
        "id": "lEbqHHtWCcZi"
      },
      "source": [
        "base_dir = '/content/drive/My Drive/TKC'"
      ],
      "execution_count": 2,
      "outputs": []
    },
    {
      "cell_type": "code",
      "metadata": {
        "id": "qTUcSDf2CeBY"
      },
      "source": [
        "from tensorflow.keras.preprocessing.image import ImageDataGenerator\n",
        " \n",
        "train_datagen = ImageDataGenerator(\n",
        "                    rescale=1./255,\n",
        "                    rotation_range=20,\n",
        "                    horizontal_flip=True,\n",
        "                    shear_range = 0.2,\n",
        "                    fill_mode = 'wrap',\n",
        "                    validation_split=0.1)\n",
        " \n",
        "validation_datagen = ImageDataGenerator(\n",
        "                    rescale=1./255,\n",
        "                    rotation_range=20,\n",
        "                    horizontal_flip=True,\n",
        "                    shear_range = 0.2,\n",
        "                    fill_mode = 'wrap',\n",
        "                    validation_split=0.1)"
      ],
      "execution_count": 3,
      "outputs": []
    },
    {
      "cell_type": "code",
      "metadata": {
        "colab": {
          "base_uri": "https://localhost:8080/"
        },
        "id": "4KUVPIfRCfw0",
        "outputId": "70b7abb7-2571-4d96-a3cd-ba38bf36f09e"
      },
      "source": [
        "# persiapan data training\n",
        "train_generator = train_datagen.flow_from_directory(\n",
        "        base_dir,  \n",
        "        # mengubah resolusi seluruh gambar menjadi 150x150 piksel\n",
        "        target_size=(150, 150),  \n",
        "        shuffle = True,\n",
        "        subset='training',\n",
        "        class_mode='categorical')\n",
        "\n",
        "# persiapan data validasi\n",
        "validation_generator = validation_datagen.flow_from_directory(\n",
        "        base_dir, \n",
        "        # mengubah resolusi seluruh gambar menjadi 150x150 piksel\n",
        "        target_size=(150, 150),  \n",
        "        subset='validation',\n",
        "        class_mode='categorical')"
      ],
      "execution_count": 4,
      "outputs": [
        {
          "output_type": "stream",
          "name": "stdout",
          "text": [
            "Found 2768 images belonging to 3 classes.\n",
            "Found 305 images belonging to 3 classes.\n"
          ]
        }
      ]
    },
    {
      "cell_type": "code",
      "metadata": {
        "id": "flACJKZxWO4b"
      },
      "source": [
        "from tensorflow.keras.preprocessing.image import ImageDataGenerator\n",
        " \n",
        "train_datagen = ImageDataGenerator(\n",
        "                    rescale=1./255,\n",
        "                    rotation_range=20,\n",
        "                    horizontal_flip=True,\n",
        "                    shear_range = 0.2,\n",
        "                    fill_mode = 'wrap',\n",
        "                    validation_split=0.1)\n",
        " \n",
        "validation_datagen = ImageDataGenerator(\n",
        "                    rescale=1./255,\n",
        "                    rotation_range=20,\n",
        "                    horizontal_flip=True,\n",
        "                    shear_range = 0.2,\n",
        "                    fill_mode = 'wrap',\n",
        "                    validation_split=0.1)"
      ],
      "execution_count": 5,
      "outputs": []
    },
    {
      "cell_type": "code",
      "metadata": {
        "id": "IvaNCN1ICqPK",
        "colab": {
          "base_uri": "https://localhost:8080/"
        },
        "outputId": "58f9da3f-2100-4487-b2d3-a9e9b4035ad9"
      },
      "source": [
        "# persiapan data training\n",
        "train_generator = train_datagen.flow_from_directory(\n",
        "        base_dir,  \n",
        "        # mengubah resolusi seluruh gambar menjadi 150x150 piksel\n",
        "        target_size=(150, 150),  \n",
        "        shuffle = True,\n",
        "        subset='training',\n",
        "        class_mode='categorical')\n",
        "\n",
        "# persiapan data validasi\n",
        "validation_generator = validation_datagen.flow_from_directory(\n",
        "        base_dir, \n",
        "        # mengubah resolusi seluruh gambar menjadi 150x150 piksel\n",
        "        target_size=(150, 150),  \n",
        "        subset='validation',\n",
        "        class_mode='categorical')"
      ],
      "execution_count": 6,
      "outputs": [
        {
          "output_type": "stream",
          "name": "stdout",
          "text": [
            "Found 2768 images belonging to 3 classes.\n",
            "Found 305 images belonging to 3 classes.\n"
          ]
        }
      ]
    },
    {
      "cell_type": "markdown",
      "metadata": {
        "id": "ZRI9ZP2UCvGD"
      },
      "source": [
        "<h3>Modeling</h3>"
      ]
    },
    {
      "cell_type": "code",
      "metadata": {
        "id": "xytwR-S4Crro"
      },
      "source": [
        "import tensorflow as tf"
      ],
      "execution_count": 7,
      "outputs": []
    },
    {
      "cell_type": "code",
      "metadata": {
        "id": "kCEZIMVnCsFK"
      },
      "source": [
        "model = tf.keras.models.Sequential([\n",
        "    tf.keras.layers.Conv2D(32, (3,3), activation='relu', input_shape=(150, 150, 3)),\n",
        "    tf.keras.layers.MaxPooling2D(2, 2),\n",
        "    tf.keras.layers.Conv2D(64, (3,3), activation='relu'),\n",
        "    tf.keras.layers.MaxPooling2D(2,2),\n",
        "    tf.keras.layers.Dropout(0.2),\n",
        "    tf.keras.layers.Conv2D(128, (3,3), activation='relu'),\n",
        "    tf.keras.layers.MaxPooling2D(2,2),\n",
        "    tf.keras.layers.Dropout(0.1),\n",
        "    tf.keras.layers.Conv2D(128, (3,3), activation='relu'),\n",
        "    tf.keras.layers.MaxPooling2D(2,2),\n",
        "    tf.keras.layers.Flatten(),\n",
        "    tf.keras.layers.Dense(512, activation='relu'),\n",
        "    tf.keras.layers.Dense(3, activation='sigmoid')\n",
        "])"
      ],
      "execution_count": 8,
      "outputs": []
    },
    {
      "cell_type": "code",
      "metadata": {
        "colab": {
          "base_uri": "https://localhost:8080/"
        },
        "id": "xxbZge_GCxtE",
        "outputId": "3796def8-0932-417e-bd6f-6e09da735afd"
      },
      "source": [
        "# Tampilkan model summary\n",
        "model.summary()"
      ],
      "execution_count": 9,
      "outputs": [
        {
          "output_type": "stream",
          "name": "stdout",
          "text": [
            "Model: \"sequential\"\n",
            "_________________________________________________________________\n",
            " Layer (type)                Output Shape              Param #   \n",
            "=================================================================\n",
            " conv2d (Conv2D)             (None, 148, 148, 32)      896       \n",
            "                                                                 \n",
            " max_pooling2d (MaxPooling2D  (None, 74, 74, 32)       0         \n",
            " )                                                               \n",
            "                                                                 \n",
            " conv2d_1 (Conv2D)           (None, 72, 72, 64)        18496     \n",
            "                                                                 \n",
            " max_pooling2d_1 (MaxPooling  (None, 36, 36, 64)       0         \n",
            " 2D)                                                             \n",
            "                                                                 \n",
            " dropout (Dropout)           (None, 36, 36, 64)        0         \n",
            "                                                                 \n",
            " conv2d_2 (Conv2D)           (None, 34, 34, 128)       73856     \n",
            "                                                                 \n",
            " max_pooling2d_2 (MaxPooling  (None, 17, 17, 128)      0         \n",
            " 2D)                                                             \n",
            "                                                                 \n",
            " dropout_1 (Dropout)         (None, 17, 17, 128)       0         \n",
            "                                                                 \n",
            " conv2d_3 (Conv2D)           (None, 15, 15, 128)       147584    \n",
            "                                                                 \n",
            " max_pooling2d_3 (MaxPooling  (None, 7, 7, 128)        0         \n",
            " 2D)                                                             \n",
            "                                                                 \n",
            " flatten (Flatten)           (None, 6272)              0         \n",
            "                                                                 \n",
            " dense (Dense)               (None, 512)               3211776   \n",
            "                                                                 \n",
            " dense_1 (Dense)             (None, 3)                 1539      \n",
            "                                                                 \n",
            "=================================================================\n",
            "Total params: 3,454,147\n",
            "Trainable params: 3,454,147\n",
            "Non-trainable params: 0\n",
            "_________________________________________________________________\n"
          ]
        }
      ]
    },
    {
      "cell_type": "code",
      "metadata": {
        "id": "TVP7wbecC1AO"
      },
      "source": [
        "from tensorflow.keras.optimizers import Adam\n",
        "\n",
        "# Compile model\n",
        "model.compile(loss='categorical_crossentropy',\n",
        "              optimizer='adam',\n",
        "              metrics=['acc'])"
      ],
      "execution_count": 10,
      "outputs": []
    },
    {
      "cell_type": "code",
      "metadata": {
        "colab": {
          "base_uri": "https://localhost:8080/"
        },
        "id": "SBoD91HdWtC8",
        "outputId": "8d586218-96e8-4596-bc0e-440bd06c1320"
      },
      "source": [
        "# latih model dengan model.fit \n",
        "history = model.fit(\n",
        "      train_generator,\n",
        "      steps_per_epoch=25,  # berapa batch yang akan dieksekusi pada setiap epoch\n",
        "      epochs=100, # tambahkan eposchs jika akurasi model belum optimal\n",
        "      validation_data=validation_generator, # menampilkan akurasi pengujian data validasi\n",
        "      validation_steps=5,  # berapa batch yang akan dieksekusi pada setiap epoch\n",
        "      verbose=2)"
      ],
      "execution_count": 11,
      "outputs": [
        {
          "output_type": "stream",
          "name": "stdout",
          "text": [
            "Epoch 1/100\n",
            "25/25 - 225s - loss: 1.0318 - acc: 0.4588 - val_loss: 0.7936 - val_acc: 0.5312 - 225s/epoch - 9s/step\n",
            "Epoch 2/100\n",
            "25/25 - 149s - loss: 0.7728 - acc: 0.6500 - val_loss: 0.6428 - val_acc: 0.7688 - 149s/epoch - 6s/step\n",
            "Epoch 3/100\n",
            "25/25 - 96s - loss: 0.7066 - acc: 0.6760 - val_loss: 0.5299 - val_acc: 0.8250 - 96s/epoch - 4s/step\n",
            "Epoch 4/100\n",
            "25/25 - 71s - loss: 0.6267 - acc: 0.7175 - val_loss: 0.6084 - val_acc: 0.6687 - 71s/epoch - 3s/step\n",
            "Epoch 5/100\n",
            "25/25 - 55s - loss: 0.6222 - acc: 0.7207 - val_loss: 0.5790 - val_acc: 0.6875 - 55s/epoch - 2s/step\n",
            "Epoch 6/100\n",
            "25/25 - 45s - loss: 0.5213 - acc: 0.7613 - val_loss: 0.5901 - val_acc: 0.6875 - 45s/epoch - 2s/step\n",
            "Epoch 7/100\n",
            "25/25 - 34s - loss: 0.5175 - acc: 0.7713 - val_loss: 0.5234 - val_acc: 0.8000 - 34s/epoch - 1s/step\n",
            "Epoch 8/100\n",
            "25/25 - 31s - loss: 0.4613 - acc: 0.7850 - val_loss: 0.5362 - val_acc: 0.7375 - 31s/epoch - 1s/step\n",
            "Epoch 9/100\n",
            "25/25 - 30s - loss: 0.4508 - acc: 0.8213 - val_loss: 0.6447 - val_acc: 0.7000 - 30s/epoch - 1s/step\n",
            "Epoch 10/100\n",
            "25/25 - 26s - loss: 0.4739 - acc: 0.7857 - val_loss: 0.4155 - val_acc: 0.8062 - 26s/epoch - 1s/step\n",
            "Epoch 11/100\n",
            "25/25 - 25s - loss: 0.4432 - acc: 0.7950 - val_loss: 0.4520 - val_acc: 0.8062 - 25s/epoch - 1s/step\n",
            "Epoch 12/100\n",
            "25/25 - 23s - loss: 0.4553 - acc: 0.8000 - val_loss: 0.6041 - val_acc: 0.7437 - 23s/epoch - 930ms/step\n",
            "Epoch 13/100\n",
            "25/25 - 21s - loss: 0.3735 - acc: 0.8406 - val_loss: 0.6873 - val_acc: 0.7500 - 21s/epoch - 841ms/step\n",
            "Epoch 14/100\n",
            "25/25 - 20s - loss: 0.4563 - acc: 0.8050 - val_loss: 0.5429 - val_acc: 0.7563 - 20s/epoch - 782ms/step\n",
            "Epoch 15/100\n",
            "25/25 - 19s - loss: 0.4318 - acc: 0.7962 - val_loss: 0.7148 - val_acc: 0.6687 - 19s/epoch - 777ms/step\n",
            "Epoch 16/100\n",
            "25/25 - 20s - loss: 0.4022 - acc: 0.8213 - val_loss: 0.5981 - val_acc: 0.7688 - 20s/epoch - 802ms/step\n",
            "Epoch 17/100\n",
            "25/25 - 20s - loss: 0.3652 - acc: 0.8512 - val_loss: 0.3384 - val_acc: 0.8438 - 20s/epoch - 802ms/step\n",
            "Epoch 18/100\n",
            "25/25 - 18s - loss: 0.3201 - acc: 0.8587 - val_loss: 0.4848 - val_acc: 0.7875 - 18s/epoch - 735ms/step\n",
            "Epoch 19/100\n",
            "25/25 - 19s - loss: 0.3100 - acc: 0.8625 - val_loss: 0.6559 - val_acc: 0.7250 - 19s/epoch - 745ms/step\n",
            "Epoch 20/100\n",
            "25/25 - 19s - loss: 0.3111 - acc: 0.8712 - val_loss: 0.6187 - val_acc: 0.7563 - 19s/epoch - 761ms/step\n",
            "Epoch 21/100\n",
            "25/25 - 19s - loss: 0.3286 - acc: 0.8637 - val_loss: 0.8020 - val_acc: 0.6562 - 19s/epoch - 767ms/step\n",
            "Epoch 22/100\n",
            "25/25 - 19s - loss: 0.2986 - acc: 0.8750 - val_loss: 0.5042 - val_acc: 0.7812 - 19s/epoch - 742ms/step\n",
            "Epoch 23/100\n",
            "25/25 - 19s - loss: 0.3426 - acc: 0.8612 - val_loss: 0.3386 - val_acc: 0.8687 - 19s/epoch - 743ms/step\n",
            "Epoch 24/100\n",
            "25/25 - 19s - loss: 0.2708 - acc: 0.8963 - val_loss: 0.3732 - val_acc: 0.8500 - 19s/epoch - 747ms/step\n",
            "Epoch 25/100\n",
            "25/25 - 19s - loss: 0.3216 - acc: 0.8700 - val_loss: 0.4647 - val_acc: 0.8062 - 19s/epoch - 745ms/step\n",
            "Epoch 26/100\n",
            "25/25 - 18s - loss: 0.2843 - acc: 0.8814 - val_loss: 0.5230 - val_acc: 0.7750 - 18s/epoch - 735ms/step\n",
            "Epoch 27/100\n",
            "25/25 - 19s - loss: 0.2881 - acc: 0.8750 - val_loss: 0.4335 - val_acc: 0.8125 - 19s/epoch - 749ms/step\n",
            "Epoch 28/100\n",
            "25/25 - 19s - loss: 0.2376 - acc: 0.9100 - val_loss: 0.4031 - val_acc: 0.8500 - 19s/epoch - 747ms/step\n",
            "Epoch 29/100\n",
            "25/25 - 19s - loss: 0.2146 - acc: 0.9150 - val_loss: 0.3419 - val_acc: 0.8500 - 19s/epoch - 750ms/step\n",
            "Epoch 30/100\n",
            "25/25 - 19s - loss: 0.2184 - acc: 0.9075 - val_loss: 0.3297 - val_acc: 0.8313 - 19s/epoch - 742ms/step\n",
            "Epoch 31/100\n",
            "25/25 - 18s - loss: 0.2174 - acc: 0.9133 - val_loss: 0.3409 - val_acc: 0.8750 - 18s/epoch - 726ms/step\n",
            "Epoch 32/100\n",
            "25/25 - 18s - loss: 0.2179 - acc: 0.9137 - val_loss: 0.2632 - val_acc: 0.9125 - 18s/epoch - 736ms/step\n",
            "Epoch 33/100\n",
            "25/25 - 18s - loss: 0.1890 - acc: 0.9273 - val_loss: 0.1961 - val_acc: 0.9312 - 18s/epoch - 726ms/step\n",
            "Epoch 34/100\n",
            "25/25 - 18s - loss: 0.2056 - acc: 0.9212 - val_loss: 0.2802 - val_acc: 0.9250 - 18s/epoch - 740ms/step\n",
            "Epoch 35/100\n",
            "25/25 - 18s - loss: 0.1588 - acc: 0.9350 - val_loss: 0.3810 - val_acc: 0.8687 - 18s/epoch - 738ms/step\n",
            "Epoch 36/100\n",
            "25/25 - 19s - loss: 0.1517 - acc: 0.9475 - val_loss: 0.4109 - val_acc: 0.8562 - 19s/epoch - 744ms/step\n",
            "Epoch 37/100\n",
            "25/25 - 18s - loss: 0.2209 - acc: 0.9100 - val_loss: 0.2801 - val_acc: 0.8875 - 18s/epoch - 736ms/step\n",
            "Epoch 38/100\n",
            "25/25 - 19s - loss: 0.2309 - acc: 0.9225 - val_loss: 0.4130 - val_acc: 0.8375 - 19s/epoch - 743ms/step\n",
            "Epoch 39/100\n",
            "25/25 - 18s - loss: 0.1772 - acc: 0.9325 - val_loss: 0.4173 - val_acc: 0.8750 - 18s/epoch - 732ms/step\n",
            "Epoch 40/100\n",
            "25/25 - 18s - loss: 0.1641 - acc: 0.9450 - val_loss: 0.2058 - val_acc: 0.9062 - 18s/epoch - 735ms/step\n",
            "Epoch 41/100\n",
            "25/25 - 18s - loss: 0.1300 - acc: 0.9525 - val_loss: 0.2372 - val_acc: 0.9125 - 18s/epoch - 729ms/step\n",
            "Epoch 42/100\n",
            "25/25 - 18s - loss: 0.1638 - acc: 0.9388 - val_loss: 0.3552 - val_acc: 0.8938 - 18s/epoch - 725ms/step\n",
            "Epoch 43/100\n",
            "25/25 - 19s - loss: 0.1574 - acc: 0.9400 - val_loss: 0.3309 - val_acc: 0.8813 - 19s/epoch - 743ms/step\n",
            "Epoch 44/100\n",
            "25/25 - 18s - loss: 0.1815 - acc: 0.9171 - val_loss: 0.3452 - val_acc: 0.9062 - 18s/epoch - 726ms/step\n",
            "Epoch 45/100\n",
            "25/25 - 20s - loss: 0.1224 - acc: 0.9488 - val_loss: 0.5365 - val_acc: 0.8313 - 20s/epoch - 801ms/step\n",
            "Epoch 46/100\n",
            "25/25 - 18s - loss: 0.1590 - acc: 0.9425 - val_loss: 0.2692 - val_acc: 0.9000 - 18s/epoch - 731ms/step\n",
            "Epoch 47/100\n",
            "25/25 - 18s - loss: 0.1230 - acc: 0.9575 - val_loss: 0.2940 - val_acc: 0.9187 - 18s/epoch - 731ms/step\n",
            "Epoch 48/100\n",
            "25/25 - 18s - loss: 0.1178 - acc: 0.9525 - val_loss: 0.1408 - val_acc: 0.9563 - 18s/epoch - 728ms/step\n",
            "Epoch 49/100\n",
            "25/25 - 18s - loss: 0.1357 - acc: 0.9439 - val_loss: 0.3832 - val_acc: 0.8562 - 18s/epoch - 718ms/step\n",
            "Epoch 50/100\n",
            "25/25 - 18s - loss: 0.1168 - acc: 0.9528 - val_loss: 0.3140 - val_acc: 0.8875 - 18s/epoch - 715ms/step\n",
            "Epoch 51/100\n",
            "25/25 - 18s - loss: 0.1353 - acc: 0.9463 - val_loss: 0.3248 - val_acc: 0.9000 - 18s/epoch - 726ms/step\n",
            "Epoch 52/100\n",
            "25/25 - 18s - loss: 0.0875 - acc: 0.9675 - val_loss: 0.5269 - val_acc: 0.8562 - 18s/epoch - 732ms/step\n",
            "Epoch 53/100\n",
            "25/25 - 18s - loss: 0.1289 - acc: 0.9566 - val_loss: 0.2818 - val_acc: 0.9125 - 18s/epoch - 722ms/step\n",
            "Epoch 54/100\n",
            "25/25 - 18s - loss: 0.1576 - acc: 0.9413 - val_loss: 0.3308 - val_acc: 0.8875 - 18s/epoch - 731ms/step\n",
            "Epoch 55/100\n",
            "25/25 - 18s - loss: 0.0930 - acc: 0.9650 - val_loss: 0.3205 - val_acc: 0.9062 - 18s/epoch - 732ms/step\n",
            "Epoch 56/100\n",
            "25/25 - 18s - loss: 0.1021 - acc: 0.9638 - val_loss: 0.2659 - val_acc: 0.9000 - 18s/epoch - 733ms/step\n",
            "Epoch 57/100\n",
            "25/25 - 18s - loss: 0.1164 - acc: 0.9500 - val_loss: 0.2310 - val_acc: 0.9312 - 18s/epoch - 731ms/step\n",
            "Epoch 58/100\n",
            "25/25 - 18s - loss: 0.1141 - acc: 0.9538 - val_loss: 0.5504 - val_acc: 0.8438 - 18s/epoch - 737ms/step\n",
            "Epoch 59/100\n",
            "25/25 - 18s - loss: 0.0946 - acc: 0.9575 - val_loss: 0.2600 - val_acc: 0.9187 - 18s/epoch - 732ms/step\n",
            "Epoch 60/100\n",
            "25/25 - 18s - loss: 0.0862 - acc: 0.9668 - val_loss: 0.3775 - val_acc: 0.9187 - 18s/epoch - 724ms/step\n",
            "Epoch 61/100\n",
            "25/25 - 18s - loss: 0.1051 - acc: 0.9617 - val_loss: 0.3054 - val_acc: 0.8875 - 18s/epoch - 727ms/step\n",
            "Epoch 62/100\n",
            "25/25 - 18s - loss: 0.1059 - acc: 0.9750 - val_loss: 0.1528 - val_acc: 0.9438 - 18s/epoch - 731ms/step\n",
            "Epoch 63/100\n",
            "25/25 - 18s - loss: 0.0726 - acc: 0.9712 - val_loss: 0.3383 - val_acc: 0.9062 - 18s/epoch - 735ms/step\n",
            "Epoch 64/100\n",
            "25/25 - 18s - loss: 0.0901 - acc: 0.9663 - val_loss: 0.3957 - val_acc: 0.9000 - 18s/epoch - 737ms/step\n",
            "Epoch 65/100\n",
            "25/25 - 18s - loss: 0.0993 - acc: 0.9625 - val_loss: 0.3542 - val_acc: 0.8438 - 18s/epoch - 735ms/step\n",
            "Epoch 66/100\n",
            "25/25 - 18s - loss: 0.0854 - acc: 0.9663 - val_loss: 0.2932 - val_acc: 0.9250 - 18s/epoch - 733ms/step\n",
            "Epoch 67/100\n",
            "25/25 - 18s - loss: 0.0809 - acc: 0.9762 - val_loss: 0.3884 - val_acc: 0.8750 - 18s/epoch - 730ms/step\n",
            "Epoch 68/100\n",
            "25/25 - 18s - loss: 0.0843 - acc: 0.9675 - val_loss: 0.3369 - val_acc: 0.8938 - 18s/epoch - 727ms/step\n",
            "Epoch 69/100\n",
            "25/25 - 18s - loss: 0.0738 - acc: 0.9694 - val_loss: 0.2151 - val_acc: 0.9500 - 18s/epoch - 721ms/step\n",
            "Epoch 70/100\n",
            "25/25 - 18s - loss: 0.0696 - acc: 0.9737 - val_loss: 0.4012 - val_acc: 0.9062 - 18s/epoch - 731ms/step\n",
            "Epoch 71/100\n",
            "25/25 - 18s - loss: 0.0657 - acc: 0.9700 - val_loss: 0.1984 - val_acc: 0.9375 - 18s/epoch - 730ms/step\n",
            "Epoch 72/100\n",
            "25/25 - 18s - loss: 0.1102 - acc: 0.9605 - val_loss: 0.5633 - val_acc: 0.8375 - 18s/epoch - 718ms/step\n",
            "Epoch 73/100\n",
            "25/25 - 18s - loss: 0.0980 - acc: 0.9613 - val_loss: 0.2917 - val_acc: 0.8938 - 18s/epoch - 736ms/step\n",
            "Epoch 74/100\n",
            "25/25 - 18s - loss: 0.0476 - acc: 0.9850 - val_loss: 0.2057 - val_acc: 0.9500 - 18s/epoch - 727ms/step\n",
            "Epoch 75/100\n",
            "25/25 - 18s - loss: 0.0701 - acc: 0.9688 - val_loss: 0.2390 - val_acc: 0.9312 - 18s/epoch - 729ms/step\n",
            "Epoch 76/100\n",
            "25/25 - 18s - loss: 0.1070 - acc: 0.9515 - val_loss: 0.3016 - val_acc: 0.8938 - 18s/epoch - 725ms/step\n",
            "Epoch 77/100\n",
            "25/25 - 18s - loss: 0.0533 - acc: 0.9837 - val_loss: 0.3825 - val_acc: 0.9000 - 18s/epoch - 737ms/step\n",
            "Epoch 78/100\n",
            "25/25 - 18s - loss: 0.0761 - acc: 0.9712 - val_loss: 0.2990 - val_acc: 0.8813 - 18s/epoch - 736ms/step\n",
            "Epoch 79/100\n",
            "25/25 - 18s - loss: 0.0616 - acc: 0.9809 - val_loss: 0.2798 - val_acc: 0.9187 - 18s/epoch - 728ms/step\n",
            "Epoch 80/100\n",
            "25/25 - 18s - loss: 0.0716 - acc: 0.9681 - val_loss: 0.2658 - val_acc: 0.9312 - 18s/epoch - 721ms/step\n",
            "Epoch 81/100\n",
            "25/25 - 18s - loss: 0.0932 - acc: 0.9625 - val_loss: 0.3113 - val_acc: 0.8938 - 18s/epoch - 739ms/step\n",
            "Epoch 82/100\n",
            "25/25 - 18s - loss: 0.0803 - acc: 0.9732 - val_loss: 0.1922 - val_acc: 0.9625 - 18s/epoch - 738ms/step\n",
            "Epoch 83/100\n",
            "25/25 - 19s - loss: 0.0555 - acc: 0.9825 - val_loss: 0.2833 - val_acc: 0.9062 - 19s/epoch - 748ms/step\n",
            "Epoch 84/100\n",
            "25/25 - 19s - loss: 0.0521 - acc: 0.9834 - val_loss: 0.5490 - val_acc: 0.8313 - 19s/epoch - 742ms/step\n",
            "Epoch 85/100\n",
            "25/25 - 19s - loss: 0.0564 - acc: 0.9762 - val_loss: 0.4256 - val_acc: 0.9000 - 19s/epoch - 752ms/step\n",
            "Epoch 86/100\n",
            "25/25 - 18s - loss: 0.0465 - acc: 0.9825 - val_loss: 0.1658 - val_acc: 0.9312 - 18s/epoch - 739ms/step\n",
            "Epoch 87/100\n",
            "25/25 - 19s - loss: 0.0387 - acc: 0.9887 - val_loss: 0.5715 - val_acc: 0.8750 - 19s/epoch - 742ms/step\n",
            "Epoch 88/100\n",
            "25/25 - 18s - loss: 0.0576 - acc: 0.9775 - val_loss: 0.3674 - val_acc: 0.8938 - 18s/epoch - 733ms/step\n",
            "Epoch 89/100\n",
            "25/25 - 18s - loss: 0.0658 - acc: 0.9725 - val_loss: 0.3337 - val_acc: 0.9000 - 18s/epoch - 739ms/step\n",
            "Epoch 90/100\n",
            "25/25 - 19s - loss: 0.0467 - acc: 0.9837 - val_loss: 0.4048 - val_acc: 0.8938 - 19s/epoch - 741ms/step\n",
            "Epoch 91/100\n",
            "25/25 - 18s - loss: 0.0484 - acc: 0.9847 - val_loss: 0.3083 - val_acc: 0.9500 - 18s/epoch - 723ms/step\n",
            "Epoch 92/100\n",
            "25/25 - 19s - loss: 0.0811 - acc: 0.9737 - val_loss: 0.3568 - val_acc: 0.9125 - 19s/epoch - 745ms/step\n",
            "Epoch 93/100\n",
            "25/25 - 18s - loss: 0.0659 - acc: 0.9770 - val_loss: 0.1958 - val_acc: 0.9500 - 18s/epoch - 733ms/step\n",
            "Epoch 94/100\n",
            "25/25 - 18s - loss: 0.0885 - acc: 0.9600 - val_loss: 0.1340 - val_acc: 0.9500 - 18s/epoch - 740ms/step\n",
            "Epoch 95/100\n",
            "25/25 - 19s - loss: 0.0643 - acc: 0.9837 - val_loss: 0.2366 - val_acc: 0.9312 - 19s/epoch - 743ms/step\n",
            "Epoch 96/100\n",
            "25/25 - 18s - loss: 0.0466 - acc: 0.9862 - val_loss: 0.3546 - val_acc: 0.9187 - 18s/epoch - 740ms/step\n",
            "Epoch 97/100\n",
            "25/25 - 19s - loss: 0.0661 - acc: 0.9750 - val_loss: 0.1800 - val_acc: 0.9312 - 19s/epoch - 752ms/step\n",
            "Epoch 98/100\n",
            "25/25 - 19s - loss: 0.0320 - acc: 0.9887 - val_loss: 0.3264 - val_acc: 0.8875 - 19s/epoch - 744ms/step\n",
            "Epoch 99/100\n",
            "25/25 - 18s - loss: 0.0288 - acc: 0.9872 - val_loss: 0.3299 - val_acc: 0.9125 - 18s/epoch - 730ms/step\n",
            "Epoch 100/100\n",
            "25/25 - 18s - loss: 0.0322 - acc: 0.9887 - val_loss: 0.3392 - val_acc: 0.9062 - 18s/epoch - 739ms/step\n"
          ]
        }
      ]
    },
    {
      "cell_type": "code",
      "metadata": {
        "id": "HF94B_OseIVK",
        "colab": {
          "base_uri": "https://localhost:8080/",
          "height": 299
        },
        "outputId": "8d9fa846-29cc-4428-ac0b-0de37615f66c"
      },
      "source": [
        "import matplotlib.pyplot as plt\n",
        "import numpy as np\n",
        "\n",
        "plt.style.use(\"ggplot\")\n",
        "plt.figure()\n",
        "plt.plot(np.arange(0, 100), history.history[\"loss\"], label=\"train_loss\")\n",
        "plt.plot(np.arange(0, 100), history.history[\"val_loss\"], label=\"val_loss\")\n",
        "plt.title(\"Loss Plot\")\n",
        "plt.xlabel(\"Epoch #\")\n",
        "plt.ylabel(\"Loss\")\n",
        "plt.legend()\n",
        "plt.show()"
      ],
      "execution_count": 12,
      "outputs": [
        {
          "output_type": "display_data",
          "data": {
            "image/png": "[encoded data removed]",
            "text/plain": [
              "<Figure size 432x288 with 1 Axes>"
            ]
          },
          "metadata": {}
        }
      ]
    },
    {
      "cell_type": "code",
      "metadata": {
        "id": "DUAv33USeU5d",
        "colab": {
          "base_uri": "https://localhost:8080/",
          "height": 299
        },
        "outputId": "67cfe332-e27a-4af5-e01b-c45e834d3d10"
      },
      "source": [
        "plt.style.use(\"ggplot\")\n",
        "plt.figure()\n",
        "plt.plot(np.arange(0, 100), history.history[\"acc\"], label=\"train_acc\")\n",
        "plt.plot(np.arange(0, 100), history.history[\"val_acc\"], label=\"val_acc\")\n",
        "plt.title(\"Accuracy Plot\")\n",
        "plt.xlabel(\"Epoch #\")\n",
        "plt.ylabel(\"Acc\")\n",
        "plt.legend()\n",
        "plt.show()"
      ],
      "execution_count": 13,
      "outputs": [
        {
          "output_type": "display_data",
          "data": {
            "image/png": "[encoded data removed]",
            "text/plain": [
              "<Figure size 432x288 with 1 Axes>"
            ]
          },
          "metadata": {}
        }
      ]
    },
    {
      "cell_type": "code",
      "metadata": {
        "id": "9snzgijVecOG"
      },
      "source": [
        "from sklearn.metrics import classification_report, confusion_matrix"
      ],
      "execution_count": 14,
      "outputs": []
    },
    {
      "cell_type": "code",
      "metadata": {
        "id": "TqO-ZdGwefcL"
      },
      "source": [
        "def evaluate(model):\n",
        "\n",
        "  validation_generator = validation_datagen.flow_from_directory(\n",
        "          base_dir, \n",
        "          target_size=(150,150), \n",
        "          batch_size=32, \n",
        "          class_mode='categorical',\n",
        "          shuffle = False,\n",
        "          subset='validation')\n",
        "\n",
        "  batch_size = 32\n",
        "  num_of_test_samples = len(validation_generator.filenames)\n",
        "\n",
        "  Y_pred = model.predict_generator(validation_generator, num_of_test_samples // batch_size+1)\n",
        "  y_pred = np.argmax(Y_pred, axis=1)\n",
        "\n",
        "  print('\\nConfusion Matrix\\n')\n",
        "  print(confusion_matrix(validation_generator.classes, y_pred))\n",
        "\n",
        "\n",
        "  print('\\n\\nClassification Report\\n')\n",
        "  target_names = ['1', '2', '3']\n",
        "  print(classification_report(validation_generator.classes, y_pred, target_names=target_names))"
      ],
      "execution_count": 15,
      "outputs": []
    },
    {
      "cell_type": "code",
      "metadata": {
        "id": "Ogz1nCJnehtq",
        "colab": {
          "base_uri": "https://localhost:8080/"
        },
        "outputId": "5d390f4d-6614-4c08-b6e2-14d7d5ca3a3f"
      },
      "source": [
        "evaluate(model)"
      ],
      "execution_count": 16,
      "outputs": [
        {
          "output_type": "stream",
          "name": "stdout",
          "text": [
            "Found 305 images belonging to 3 classes.\n"
          ]
        },
        {
          "output_type": "stream",
          "name": "stderr",
          "text": [
            "/usr/local/lib/python3.7/dist-packages/ipykernel_launcher.py:14: UserWarning: `Model.predict_generator` is deprecated and will be removed in a future version. Please use `Model.predict`, which supports generators.\n",
            "  \n"
          ]
        },
        {
          "output_type": "stream",
          "name": "stdout",
          "text": [
            "\n",
            "Confusion Matrix\n",
            "\n",
            "[[ 66   0   4]\n",
            " [ 13 128   1]\n",
            " [  6   0  87]]\n",
            "\n",
            "\n",
            "Classification Report\n",
            "\n",
            "              precision    recall  f1-score   support\n",
            "\n",
            "           1       0.78      0.94      0.85        70\n",
            "           2       1.00      0.90      0.95       142\n",
            "           3       0.95      0.94      0.94        93\n",
            "\n",
            "    accuracy                           0.92       305\n",
            "   macro avg       0.91      0.93      0.91       305\n",
            "weighted avg       0.93      0.92      0.92       305\n",
            "\n"
          ]
        }
      ]
    }
  ]
}