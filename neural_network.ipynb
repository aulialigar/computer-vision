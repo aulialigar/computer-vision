{
  "nbformat": 4,
  "nbformat_minor": 0,
  "metadata": {
    "colab": {
      "name": "neural_network.ipynb",
      "provenance": [],
      "collapsed_sections": [],
      "include_colab_link": true
    },
    "kernelspec": {
      "display_name": "Python 3",
      "name": "python3"
    },
    "language_info": {
      "name": "python"
    }
  },
  "cells": [
    {
      "cell_type": "markdown",
      "metadata": {
        "id": "view-in-github",
        "colab_type": "text"
      },
      "source": [
        "<a href=\"https://colab.research.google.com/github/aulialigar/computer-vision/blob/main/neural_network.ipynb\" target=\"_parent\"><img src=\"https://colab.research.google.com/assets/colab-badge.svg\" alt=\"Open In Colab\"/></a>"
      ]
    },
    {
      "cell_type": "code",
      "metadata": {
        "colab": {
          "base_uri": "https://localhost:8080/"
        },
        "id": "HbEtzsONCbXH",
        "outputId": "88eb7742-fb1b-4b62-d1ab-170921f36138"
      },
      "source": [
        "import os\n",
        "from google.colab import drive\n",
        "drive.mount('/content/drive/')\n",
        "\n",
        "os.chdir('/content/drive/My Drive/TKC')\n",
        "!ls -a"
      ],
      "execution_count": 52,
      "outputs": [
        {
          "output_type": "stream",
          "name": "stdout",
          "text": [
            "Drive already mounted at /content/drive/; to attempt to forcibly remount, call drive.mount(\"/content/drive/\", force_remount=True).\n",
            "1  2  3\n"
          ]
        }
      ]
    },
    {
      "cell_type": "code",
      "metadata": {
        "id": "qTUcSDf2CeBY"
      },
      "source": [
        "base_dir = '/content/drive/My Drive/TKC'"
      ],
      "execution_count": 53,
      "outputs": []
    },
    {
      "cell_type": "code",
      "metadata": {
        "id": "g4a93N58hpgK"
      },
      "source": [
        "from tensorflow.keras.preprocessing.image import ImageDataGenerator\n",
        " \n",
        "train_datagen = ImageDataGenerator(\n",
        "                    rescale=1./255,\n",
        "                    rotation_range=20,\n",
        "                    horizontal_flip=True,\n",
        "                    shear_range = 0.2,\n",
        "                    fill_mode = 'wrap',\n",
        "                    validation_split=0.1)\n",
        " \n",
        "validation_datagen = ImageDataGenerator(\n",
        "                    rescale=1./255,\n",
        "                    rotation_range=20,\n",
        "                    horizontal_flip=True,\n",
        "                    shear_range = 0.2,\n",
        "                    fill_mode = 'wrap',\n",
        "                    validation_split=0.1)"
      ],
      "execution_count": 54,
      "outputs": []
    },
    {
      "cell_type": "code",
      "metadata": {
        "colab": {
          "base_uri": "https://localhost:8080/"
        },
        "id": "pWfk9PTEhzqi",
        "outputId": "c19e0467-c6bb-4963-ab07-2fef6f04dbae"
      },
      "source": [
        "# persiapan data training\n",
        "train_generator = train_datagen.flow_from_directory(\n",
        "        base_dir,  \n",
        "        # mengubah resolusi seluruh gambar menjadi 150x150 piksel\n",
        "        target_size=(150, 150),  \n",
        "        shuffle = True,\n",
        "        subset='training',\n",
        "        class_mode='categorical')\n",
        "\n",
        "# persiapan data validasi\n",
        "validation_generator = validation_datagen.flow_from_directory(\n",
        "        base_dir, \n",
        "        # mengubah resolusi seluruh gambar menjadi 150x150 piksel\n",
        "        target_size=(150, 150),  \n",
        "        subset='validation',\n",
        "        class_mode='categorical')"
      ],
      "execution_count": 55,
      "outputs": [
        {
          "output_type": "stream",
          "name": "stdout",
          "text": [
            "Found 2759 images belonging to 3 classes.\n",
            "Found 305 images belonging to 3 classes.\n"
          ]
        }
      ]
    },
    {
      "cell_type": "markdown",
      "metadata": {
        "id": "YLD6FXIKC35_"
      },
      "source": [
        "<h3>Definisikan Model</h3>"
      ]
    },
    {
      "cell_type": "code",
      "metadata": {
        "id": "-IpFwrdNC5Sx"
      },
      "source": [
        "import tensorflow as tf"
      ],
      "execution_count": 56,
      "outputs": []
    },
    {
      "cell_type": "code",
      "metadata": {
        "id": "ukf5Oh1cC7QH"
      },
      "source": [
        "model = tf.keras.models.Sequential([\n",
        "    tf.keras.layers.InputLayer(input_shape=[150,150,3]),                              \n",
        "    tf.keras.layers.Conv2D(filters=16, kernel_size=3, strides=1, padding='same', activation='relu'),\n",
        "    tf.keras.layers.MaxPool2D(pool_size=2, padding='same'),\n",
        "    tf.keras.layers.Conv2D(filters=32, kernel_size=3, strides=1, padding='same', activation='relu'),\n",
        "    tf.keras.layers.MaxPool2D(pool_size=2, padding='same'),\n",
        "    tf.keras.layers.Conv2D(filters=32, kernel_size=3, strides=1, padding='same', activation='relu'),\n",
        "    tf.keras.layers.MaxPool2D(pool_size=2, padding='same'),\n",
        "    tf.keras.layers.Flatten(),\n",
        "    tf.keras.layers.Dense(512, activation='relu'),\n",
        "    tf.keras.layers.Dense(128, activation='relu'),\n",
        "    tf.keras.layers.Dense(128, activation='relu'),\n",
        "    tf.keras.layers.Dense(3, activation='sigmoid')\n",
        "])"
      ],
      "execution_count": 67,
      "outputs": []
    },
    {
      "cell_type": "code",
      "metadata": {
        "colab": {
          "base_uri": "https://localhost:8080/"
        },
        "id": "hWPPCl28C8iJ",
        "outputId": "3c61b867-c46c-4b72-85a3-e281f966f0e7"
      },
      "source": [
        "# Tampilkan model summary\n",
        "model.summary()"
      ],
      "execution_count": 68,
      "outputs": [
        {
          "output_type": "stream",
          "name": "stdout",
          "text": [
            "Model: \"sequential_6\"\n",
            "_________________________________________________________________\n",
            " Layer (type)                Output Shape              Param #   \n",
            "=================================================================\n",
            " conv2d_20 (Conv2D)          (None, 150, 150, 16)      448       \n",
            "                                                                 \n",
            " max_pooling2d_20 (MaxPoolin  (None, 75, 75, 16)       0         \n",
            " g2D)                                                            \n",
            "                                                                 \n",
            " conv2d_21 (Conv2D)          (None, 75, 75, 32)        4640      \n",
            "                                                                 \n",
            " max_pooling2d_21 (MaxPoolin  (None, 38, 38, 32)       0         \n",
            " g2D)                                                            \n",
            "                                                                 \n",
            " conv2d_22 (Conv2D)          (None, 38, 38, 32)        9248      \n",
            "                                                                 \n",
            " max_pooling2d_22 (MaxPoolin  (None, 19, 19, 32)       0         \n",
            " g2D)                                                            \n",
            "                                                                 \n",
            " flatten_6 (Flatten)         (None, 11552)             0         \n",
            "                                                                 \n",
            " dense_22 (Dense)            (None, 512)               5915136   \n",
            "                                                                 \n",
            " dense_23 (Dense)            (None, 128)               65664     \n",
            "                                                                 \n",
            " dense_24 (Dense)            (None, 128)               16512     \n",
            "                                                                 \n",
            " dense_25 (Dense)            (None, 3)                 387       \n",
            "                                                                 \n",
            "=================================================================\n",
            "Total params: 6,012,035\n",
            "Trainable params: 6,012,035\n",
            "Non-trainable params: 0\n",
            "_________________________________________________________________\n"
          ]
        }
      ]
    },
    {
      "cell_type": "code",
      "metadata": {
        "id": "TD_IAMQnC_ih"
      },
      "source": [
        "from tensorflow.keras.optimizers import Adam\n",
        "\n",
        "# Compile model\n",
        "model.compile(optimizer='adam',\n",
        "              loss='categorical_crossentropy',\n",
        "              metrics=['acc'])"
      ],
      "execution_count": 69,
      "outputs": []
    },
    {
      "cell_type": "code",
      "metadata": {
        "id": "_BTSpUVlDAH0",
        "colab": {
          "base_uri": "https://localhost:8080/"
        },
        "outputId": "e785178b-bda4-4182-a6ee-0cf13dd72ff8"
      },
      "source": [
        "# latih model dengan model.fit \n",
        "history = model.fit(\n",
        "      train_generator,\n",
        "      steps_per_epoch=25,  # berapa batch yang akan dieksekusi pada setiap epoch\n",
        "      epochs=100, # tambahkan eposchs jika akurasi model belum optimal\n",
        "      validation_data=validation_generator, # menampilkan akurasi pengujian data validasi\n",
        "      validation_steps=5,  # berapa batch yang akan dieksekusi pada setiap epoch\n",
        "      verbose=2)"
      ],
      "execution_count": 77,
      "outputs": [
        {
          "output_type": "stream",
          "name": "stdout",
          "text": [
            "Epoch 1/100\n",
            "25/25 - 19s - loss: 0.0219 - acc: 0.9948 - val_loss: 0.6023 - val_acc: 0.8813 - 19s/epoch - 773ms/step\n",
            "Epoch 2/100\n",
            "25/25 - 19s - loss: 0.0313 - acc: 0.9912 - val_loss: 0.4452 - val_acc: 0.8938 - 19s/epoch - 770ms/step\n",
            "Epoch 3/100\n",
            "25/25 - 19s - loss: 0.0170 - acc: 0.9962 - val_loss: 0.6250 - val_acc: 0.8813 - 19s/epoch - 775ms/step\n",
            "Epoch 4/100\n",
            "25/25 - 19s - loss: 0.0208 - acc: 0.9897 - val_loss: 0.5523 - val_acc: 0.8813 - 19s/epoch - 748ms/step\n",
            "Epoch 5/100\n",
            "25/25 - 19s - loss: 0.0158 - acc: 0.9974 - val_loss: 0.3064 - val_acc: 0.9312 - 19s/epoch - 758ms/step\n",
            "Epoch 6/100\n",
            "25/25 - 19s - loss: 0.0265 - acc: 0.9925 - val_loss: 0.6090 - val_acc: 0.8875 - 19s/epoch - 773ms/step\n",
            "Epoch 7/100\n",
            "25/25 - 19s - loss: 0.0181 - acc: 0.9910 - val_loss: 0.3821 - val_acc: 0.8813 - 19s/epoch - 752ms/step\n",
            "Epoch 8/100\n",
            "25/25 - 19s - loss: 0.0206 - acc: 0.9887 - val_loss: 0.6882 - val_acc: 0.8438 - 19s/epoch - 770ms/step\n",
            "Epoch 9/100\n",
            "25/25 - 19s - loss: 0.0382 - acc: 0.9837 - val_loss: 0.4785 - val_acc: 0.8562 - 19s/epoch - 772ms/step\n",
            "Epoch 10/100\n",
            "25/25 - 19s - loss: 0.0357 - acc: 0.9875 - val_loss: 0.3348 - val_acc: 0.9125 - 19s/epoch - 765ms/step\n",
            "Epoch 11/100\n",
            "25/25 - 19s - loss: 0.0509 - acc: 0.9875 - val_loss: 0.4630 - val_acc: 0.8562 - 19s/epoch - 773ms/step\n",
            "Epoch 12/100\n",
            "25/25 - 19s - loss: 0.0450 - acc: 0.9875 - val_loss: 0.4291 - val_acc: 0.8875 - 19s/epoch - 775ms/step\n",
            "Epoch 13/100\n",
            "25/25 - 19s - loss: 0.0139 - acc: 0.9950 - val_loss: 0.4614 - val_acc: 0.9062 - 19s/epoch - 779ms/step\n",
            "Epoch 14/100\n",
            "25/25 - 19s - loss: 0.0177 - acc: 0.9912 - val_loss: 0.5061 - val_acc: 0.8938 - 19s/epoch - 772ms/step\n",
            "Epoch 15/100\n",
            "25/25 - 19s - loss: 0.0306 - acc: 0.9925 - val_loss: 0.3950 - val_acc: 0.8687 - 19s/epoch - 759ms/step\n",
            "Epoch 16/100\n",
            "25/25 - 19s - loss: 0.0168 - acc: 0.9925 - val_loss: 0.7890 - val_acc: 0.8250 - 19s/epoch - 760ms/step\n",
            "Epoch 17/100\n",
            "25/25 - 19s - loss: 0.0159 - acc: 0.9937 - val_loss: 0.7089 - val_acc: 0.8438 - 19s/epoch - 768ms/step\n",
            "Epoch 18/100\n",
            "25/25 - 19s - loss: 0.1024 - acc: 0.9729 - val_loss: 0.5724 - val_acc: 0.8938 - 19s/epoch - 744ms/step\n",
            "Epoch 19/100\n",
            "25/25 - 19s - loss: 0.1011 - acc: 0.9800 - val_loss: 0.4363 - val_acc: 0.8500 - 19s/epoch - 757ms/step\n",
            "Epoch 20/100\n",
            "25/25 - 19s - loss: 0.0283 - acc: 0.9887 - val_loss: 0.4755 - val_acc: 0.8875 - 19s/epoch - 758ms/step\n",
            "Epoch 21/100\n",
            "25/25 - 18s - loss: 0.0334 - acc: 0.9910 - val_loss: 0.5558 - val_acc: 0.8188 - 18s/epoch - 738ms/step\n",
            "Epoch 22/100\n",
            "25/25 - 18s - loss: 0.0488 - acc: 0.9832 - val_loss: 0.3388 - val_acc: 0.8938 - 18s/epoch - 738ms/step\n",
            "Epoch 23/100\n",
            "25/25 - 19s - loss: 0.0235 - acc: 0.9935 - val_loss: 0.3078 - val_acc: 0.9187 - 19s/epoch - 740ms/step\n",
            "Epoch 24/100\n",
            "25/25 - 19s - loss: 0.0245 - acc: 0.9925 - val_loss: 0.5377 - val_acc: 0.8375 - 19s/epoch - 760ms/step\n",
            "Epoch 25/100\n",
            "25/25 - 18s - loss: 0.0217 - acc: 0.9910 - val_loss: 0.4539 - val_acc: 0.9000 - 18s/epoch - 736ms/step\n",
            "Epoch 26/100\n",
            "25/25 - 19s - loss: 0.0372 - acc: 0.9850 - val_loss: 0.6042 - val_acc: 0.8625 - 19s/epoch - 754ms/step\n",
            "Epoch 27/100\n",
            "25/25 - 19s - loss: 0.0264 - acc: 0.9937 - val_loss: 0.3709 - val_acc: 0.9187 - 19s/epoch - 752ms/step\n",
            "Epoch 28/100\n",
            "25/25 - 19s - loss: 0.0274 - acc: 0.9887 - val_loss: 0.2614 - val_acc: 0.9312 - 19s/epoch - 756ms/step\n",
            "Epoch 29/100\n",
            "25/25 - 19s - loss: 0.0117 - acc: 0.9962 - val_loss: 0.4669 - val_acc: 0.9250 - 19s/epoch - 760ms/step\n",
            "Epoch 30/100\n",
            "25/25 - 19s - loss: 0.0133 - acc: 0.9937 - val_loss: 0.8948 - val_acc: 0.8250 - 19s/epoch - 762ms/step\n",
            "Epoch 31/100\n",
            "25/25 - 19s - loss: 0.0366 - acc: 0.9925 - val_loss: 0.3431 - val_acc: 0.9125 - 19s/epoch - 757ms/step\n",
            "Epoch 32/100\n",
            "25/25 - 18s - loss: 0.0086 - acc: 0.9974 - val_loss: 0.5431 - val_acc: 0.9187 - 18s/epoch - 738ms/step\n",
            "Epoch 33/100\n",
            "25/25 - 19s - loss: 0.0151 - acc: 0.9950 - val_loss: 0.4834 - val_acc: 0.9187 - 19s/epoch - 754ms/step\n",
            "Epoch 34/100\n",
            "25/25 - 19s - loss: 0.0157 - acc: 0.9937 - val_loss: 0.4967 - val_acc: 0.9062 - 19s/epoch - 749ms/step\n",
            "Epoch 35/100\n",
            "25/25 - 19s - loss: 0.0237 - acc: 0.9950 - val_loss: 0.6572 - val_acc: 0.8750 - 19s/epoch - 745ms/step\n",
            "Epoch 36/100\n",
            "25/25 - 19s - loss: 0.0287 - acc: 0.9912 - val_loss: 0.5018 - val_acc: 0.8875 - 19s/epoch - 758ms/step\n",
            "Epoch 37/100\n",
            "25/25 - 19s - loss: 0.0114 - acc: 0.9950 - val_loss: 0.7411 - val_acc: 0.8625 - 19s/epoch - 750ms/step\n",
            "Epoch 38/100\n",
            "25/25 - 20s - loss: 0.0185 - acc: 0.9923 - val_loss: 0.6523 - val_acc: 0.8813 - 20s/epoch - 784ms/step\n",
            "Epoch 39/100\n",
            "25/25 - 18s - loss: 0.0288 - acc: 0.9884 - val_loss: 0.5979 - val_acc: 0.8750 - 18s/epoch - 734ms/step\n",
            "Epoch 40/100\n",
            "25/25 - 19s - loss: 0.0303 - acc: 0.9875 - val_loss: 0.5291 - val_acc: 0.8750 - 19s/epoch - 754ms/step\n",
            "Epoch 41/100\n",
            "25/25 - 19s - loss: 0.0245 - acc: 0.9937 - val_loss: 0.9412 - val_acc: 0.8375 - 19s/epoch - 753ms/step\n",
            "Epoch 42/100\n",
            "25/25 - 18s - loss: 0.0294 - acc: 0.9884 - val_loss: 0.9439 - val_acc: 0.8813 - 18s/epoch - 733ms/step\n",
            "Epoch 43/100\n",
            "25/25 - 19s - loss: 0.0656 - acc: 0.9825 - val_loss: 0.5169 - val_acc: 0.9000 - 19s/epoch - 753ms/step\n",
            "Epoch 44/100\n",
            "25/25 - 19s - loss: 0.0558 - acc: 0.9787 - val_loss: 0.5602 - val_acc: 0.9000 - 19s/epoch - 757ms/step\n",
            "Epoch 45/100\n",
            "25/25 - 19s - loss: 0.0282 - acc: 0.9900 - val_loss: 0.3320 - val_acc: 0.9125 - 19s/epoch - 757ms/step\n",
            "Epoch 46/100\n",
            "25/25 - 19s - loss: 0.0208 - acc: 0.9912 - val_loss: 0.5587 - val_acc: 0.9000 - 19s/epoch - 748ms/step\n",
            "Epoch 47/100\n",
            "25/25 - 19s - loss: 0.0361 - acc: 0.9850 - val_loss: 0.2972 - val_acc: 0.9312 - 19s/epoch - 751ms/step\n",
            "Epoch 48/100\n",
            "25/25 - 19s - loss: 0.0230 - acc: 0.9937 - val_loss: 0.3006 - val_acc: 0.9250 - 19s/epoch - 750ms/step\n",
            "Epoch 49/100\n",
            "25/25 - 19s - loss: 0.0295 - acc: 0.9950 - val_loss: 0.3211 - val_acc: 0.9125 - 19s/epoch - 748ms/step\n",
            "Epoch 50/100\n",
            "25/25 - 19s - loss: 0.0078 - acc: 0.9975 - val_loss: 0.5731 - val_acc: 0.9062 - 19s/epoch - 751ms/step\n",
            "Epoch 51/100\n",
            "25/25 - 19s - loss: 0.0075 - acc: 0.9975 - val_loss: 0.6363 - val_acc: 0.8750 - 19s/epoch - 763ms/step\n",
            "Epoch 52/100\n",
            "25/25 - 18s - loss: 0.0182 - acc: 0.9910 - val_loss: 0.8849 - val_acc: 0.8750 - 18s/epoch - 726ms/step\n",
            "Epoch 53/100\n",
            "25/25 - 18s - loss: 0.0178 - acc: 0.9935 - val_loss: 0.4206 - val_acc: 0.8938 - 18s/epoch - 721ms/step\n",
            "Epoch 54/100\n",
            "25/25 - 19s - loss: 0.0365 - acc: 0.9887 - val_loss: 0.7077 - val_acc: 0.8625 - 19s/epoch - 746ms/step\n",
            "Epoch 55/100\n",
            "25/25 - 18s - loss: 0.0306 - acc: 0.9875 - val_loss: 0.3446 - val_acc: 0.9125 - 18s/epoch - 737ms/step\n",
            "Epoch 56/100\n",
            "25/25 - 19s - loss: 0.0297 - acc: 0.9862 - val_loss: 0.4191 - val_acc: 0.9062 - 19s/epoch - 740ms/step\n",
            "Epoch 57/100\n",
            "25/25 - 18s - loss: 0.0216 - acc: 0.9925 - val_loss: 0.6380 - val_acc: 0.8625 - 18s/epoch - 733ms/step\n",
            "Epoch 58/100\n",
            "25/25 - 18s - loss: 0.0193 - acc: 0.9961 - val_loss: 0.7683 - val_acc: 0.8500 - 18s/epoch - 715ms/step\n",
            "Epoch 59/100\n",
            "25/25 - 18s - loss: 0.0178 - acc: 0.9925 - val_loss: 0.5359 - val_acc: 0.8875 - 18s/epoch - 738ms/step\n",
            "Epoch 60/100\n",
            "25/25 - 18s - loss: 0.0259 - acc: 0.9900 - val_loss: 0.3069 - val_acc: 0.9187 - 18s/epoch - 732ms/step\n",
            "Epoch 61/100\n",
            "25/25 - 19s - loss: 0.0467 - acc: 0.9912 - val_loss: 0.3156 - val_acc: 0.9000 - 19s/epoch - 745ms/step\n",
            "Epoch 62/100\n",
            "25/25 - 19s - loss: 0.0164 - acc: 0.9925 - val_loss: 0.7392 - val_acc: 0.8500 - 19s/epoch - 754ms/step\n",
            "Epoch 63/100\n",
            "25/25 - 19s - loss: 0.0194 - acc: 0.9950 - val_loss: 0.3212 - val_acc: 0.9250 - 19s/epoch - 765ms/step\n",
            "Epoch 64/100\n",
            "25/25 - 19s - loss: 0.0059 - acc: 0.9987 - val_loss: 0.3605 - val_acc: 0.9312 - 19s/epoch - 750ms/step\n",
            "Epoch 65/100\n",
            "25/25 - 19s - loss: 0.0099 - acc: 0.9962 - val_loss: 0.4264 - val_acc: 0.9062 - 19s/epoch - 747ms/step\n",
            "Epoch 66/100\n",
            "25/25 - 19s - loss: 0.0036 - acc: 0.9987 - val_loss: 0.6526 - val_acc: 0.8813 - 19s/epoch - 747ms/step\n",
            "Epoch 67/100\n",
            "25/25 - 18s - loss: 0.0027 - acc: 1.0000 - val_loss: 0.7577 - val_acc: 0.9062 - 18s/epoch - 739ms/step\n",
            "Epoch 68/100\n",
            "25/25 - 19s - loss: 0.0037 - acc: 0.9987 - val_loss: 0.7747 - val_acc: 0.8813 - 19s/epoch - 762ms/step\n",
            "Epoch 69/100\n",
            "25/25 - 19s - loss: 0.0684 - acc: 0.9875 - val_loss: 0.4883 - val_acc: 0.9250 - 19s/epoch - 769ms/step\n",
            "Epoch 70/100\n",
            "25/25 - 20s - loss: 0.0386 - acc: 0.9875 - val_loss: 0.5422 - val_acc: 0.8875 - 20s/epoch - 786ms/step\n",
            "Epoch 71/100\n",
            "25/25 - 19s - loss: 0.0617 - acc: 0.9800 - val_loss: 0.3913 - val_acc: 0.8875 - 19s/epoch - 770ms/step\n",
            "Epoch 72/100\n",
            "25/25 - 19s - loss: 0.0221 - acc: 0.9950 - val_loss: 0.3907 - val_acc: 0.8813 - 19s/epoch - 766ms/step\n",
            "Epoch 73/100\n",
            "25/25 - 19s - loss: 0.0202 - acc: 0.9937 - val_loss: 0.6985 - val_acc: 0.8687 - 19s/epoch - 743ms/step\n",
            "Epoch 74/100\n",
            "25/25 - 18s - loss: 0.0114 - acc: 0.9974 - val_loss: 0.5041 - val_acc: 0.8938 - 18s/epoch - 716ms/step\n",
            "Epoch 75/100\n",
            "25/25 - 18s - loss: 0.0086 - acc: 0.9975 - val_loss: 0.5426 - val_acc: 0.8938 - 18s/epoch - 734ms/step\n",
            "Epoch 76/100\n",
            "25/25 - 19s - loss: 0.0070 - acc: 0.9975 - val_loss: 0.8879 - val_acc: 0.8500 - 19s/epoch - 743ms/step\n",
            "Epoch 77/100\n",
            "25/25 - 19s - loss: 0.0075 - acc: 0.9975 - val_loss: 0.6868 - val_acc: 0.8687 - 19s/epoch - 748ms/step\n",
            "Epoch 78/100\n",
            "25/25 - 19s - loss: 0.0080 - acc: 0.9962 - val_loss: 0.4381 - val_acc: 0.8938 - 19s/epoch - 750ms/step\n",
            "Epoch 79/100\n",
            "25/25 - 19s - loss: 0.0323 - acc: 0.9900 - val_loss: 0.5726 - val_acc: 0.8875 - 19s/epoch - 756ms/step\n",
            "Epoch 80/100\n",
            "25/25 - 19s - loss: 0.0286 - acc: 0.9900 - val_loss: 0.6036 - val_acc: 0.9250 - 19s/epoch - 755ms/step\n",
            "Epoch 81/100\n",
            "25/25 - 19s - loss: 0.0216 - acc: 0.9912 - val_loss: 0.7853 - val_acc: 0.8687 - 19s/epoch - 765ms/step\n",
            "Epoch 82/100\n",
            "25/25 - 19s - loss: 0.0174 - acc: 0.9950 - val_loss: 0.3997 - val_acc: 0.9000 - 19s/epoch - 755ms/step\n",
            "Epoch 83/100\n",
            "25/25 - 19s - loss: 0.0247 - acc: 0.9912 - val_loss: 0.6953 - val_acc: 0.8687 - 19s/epoch - 767ms/step\n",
            "Epoch 84/100\n",
            "25/25 - 18s - loss: 0.0134 - acc: 0.9948 - val_loss: 0.5660 - val_acc: 0.8813 - 18s/epoch - 736ms/step\n",
            "Epoch 85/100\n",
            "25/25 - 19s - loss: 0.0092 - acc: 0.9962 - val_loss: 0.9877 - val_acc: 0.8500 - 19s/epoch - 765ms/step\n",
            "Epoch 86/100\n",
            "25/25 - 18s - loss: 0.0145 - acc: 0.9961 - val_loss: 0.6552 - val_acc: 0.9000 - 18s/epoch - 730ms/step\n",
            "Epoch 87/100\n",
            "25/25 - 19s - loss: 0.0259 - acc: 0.9962 - val_loss: 0.8526 - val_acc: 0.8375 - 19s/epoch - 752ms/step\n",
            "Epoch 88/100\n",
            "25/25 - 18s - loss: 0.0456 - acc: 0.9858 - val_loss: 0.5597 - val_acc: 0.8750 - 18s/epoch - 739ms/step\n",
            "Epoch 89/100\n",
            "25/25 - 19s - loss: 0.0105 - acc: 0.9962 - val_loss: 0.9189 - val_acc: 0.8188 - 19s/epoch - 758ms/step\n",
            "Epoch 90/100\n",
            "25/25 - 18s - loss: 0.0400 - acc: 0.9871 - val_loss: 0.3276 - val_acc: 0.9375 - 18s/epoch - 738ms/step\n",
            "Epoch 91/100\n",
            "25/25 - 19s - loss: 0.0265 - acc: 0.9925 - val_loss: 0.4626 - val_acc: 0.9125 - 19s/epoch - 759ms/step\n",
            "Epoch 92/100\n",
            "25/25 - 18s - loss: 0.0090 - acc: 0.9961 - val_loss: 0.7186 - val_acc: 0.9062 - 18s/epoch - 738ms/step\n",
            "Epoch 93/100\n",
            "25/25 - 19s - loss: 0.0156 - acc: 0.9950 - val_loss: 0.6972 - val_acc: 0.8562 - 19s/epoch - 771ms/step\n",
            "Epoch 94/100\n",
            "25/25 - 19s - loss: 0.0344 - acc: 0.9897 - val_loss: 0.8224 - val_acc: 0.8813 - 19s/epoch - 746ms/step\n",
            "Epoch 95/100\n",
            "25/25 - 19s - loss: 0.0541 - acc: 0.9837 - val_loss: 0.3863 - val_acc: 0.9062 - 19s/epoch - 763ms/step\n",
            "Epoch 96/100\n",
            "25/25 - 19s - loss: 0.0116 - acc: 0.9950 - val_loss: 0.7851 - val_acc: 0.8875 - 19s/epoch - 755ms/step\n",
            "Epoch 97/100\n",
            "25/25 - 19s - loss: 0.0047 - acc: 0.9987 - val_loss: 0.8401 - val_acc: 0.8625 - 19s/epoch - 760ms/step\n",
            "Epoch 98/100\n",
            "25/25 - 19s - loss: 0.0036 - acc: 0.9987 - val_loss: 0.8689 - val_acc: 0.8938 - 19s/epoch - 761ms/step\n",
            "Epoch 99/100\n",
            "25/25 - 19s - loss: 0.0221 - acc: 0.9910 - val_loss: 1.1145 - val_acc: 0.8375 - 19s/epoch - 743ms/step\n",
            "Epoch 100/100\n",
            "25/25 - 19s - loss: 0.0227 - acc: 0.9912 - val_loss: 0.6000 - val_acc: 0.8938 - 19s/epoch - 753ms/step\n"
          ]
        }
      ]
    },
    {
      "cell_type": "markdown",
      "metadata": {
        "id": "FEWlFuCbDFEV"
      },
      "source": [
        "<h3>Evaluasi Model</h3>"
      ]
    },
    {
      "cell_type": "code",
      "metadata": {
        "id": "fLJK8najDB8a",
        "colab": {
          "base_uri": "https://localhost:8080/",
          "height": 298
        },
        "outputId": "a7fcba9c-7c27-4656-9ba8-f4f9d8a6dca9"
      },
      "source": [
        "import matplotlib.pyplot as plt\n",
        "import numpy as np\n",
        "\n",
        "plt.style.use(\"ggplot\")\n",
        "plt.figure()\n",
        "plt.plot(np.arange(0, 100), history.history[\"loss\"], label=\"train_loss\")\n",
        "plt.plot(np.arange(0, 100), history.history[\"val_loss\"], label=\"val_loss\")\n",
        "plt.title(\"Loss Plot\")\n",
        "plt.xlabel(\"Epoch #\")\n",
        "plt.ylabel(\"Loss\")\n",
        "plt.legend()\n",
        "plt.show()"
      ],
      "execution_count": 78,
      "outputs": [
        {
          "output_type": "display_data",
          "data": {
            "image/png": "[encoded data removed]",
            "text/plain": [
              "<Figure size 432x288 with 1 Axes>"
            ]
          },
          "metadata": {}
        }
      ]
    },
    {
      "cell_type": "code",
      "metadata": {
        "id": "30FcTwEWDHTO",
        "colab": {
          "base_uri": "https://localhost:8080/",
          "height": 298
        },
        "outputId": "ff84b3f1-53cc-404a-bdf8-d8b454967b51"
      },
      "source": [
        "plt.style.use(\"ggplot\")\n",
        "plt.figure()\n",
        "plt.plot(np.arange(0, 100), history.history[\"acc\"], label=\"train_acc\")\n",
        "plt.plot(np.arange(0, 100), history.history[\"val_acc\"], label=\"val_acc\")\n",
        "plt.title(\"Accuracy Plot\")\n",
        "plt.xlabel(\"Epoch #\")\n",
        "plt.ylabel(\"Acc\")\n",
        "plt.legend()\n",
        "plt.show()"
      ],
      "execution_count": 79,
      "outputs": [
        {
          "output_type": "display_data",
          "data": {
            "image/png": "[encoded data removed]",
            "text/plain": [
              "<Figure size 432x288 with 1 Axes>"
            ]
          },
          "metadata": {}
        }
      ]
    },
    {
      "cell_type": "code",
      "metadata": {
        "id": "N848L5hGDJ1K"
      },
      "source": [
        "# from sklearn.metrics import classification_report\n",
        "\n",
        "# pred = model.predict(validation_generator)\n",
        "# labels = (pred > 0.5).astype(np.int)\n",
        "\n",
        "# print(classification_report(validation_generator.classes, labels))"
      ],
      "execution_count": 80,
      "outputs": []
    },
    {
      "cell_type": "code",
      "metadata": {
        "id": "Oh8tkRvbjT2E"
      },
      "source": [
        "from sklearn.metrics import classification_report, confusion_matrix"
      ],
      "execution_count": 81,
      "outputs": []
    },
    {
      "cell_type": "code",
      "metadata": {
        "id": "QtFSQfcyixky"
      },
      "source": [
        "def evaluate(model):\n",
        "\n",
        "  validation_generator = validation_datagen.flow_from_directory(\n",
        "          base_dir, \n",
        "          target_size=(150,150), \n",
        "          batch_size=32, \n",
        "          class_mode='categorical',\n",
        "          shuffle = False,\n",
        "          subset='validation')\n",
        "\n",
        "  batch_size = 32\n",
        "  num_of_test_samples = len(validation_generator.filenames)\n",
        "\n",
        "  Y_pred = model.predict_generator(validation_generator, num_of_test_samples // batch_size+1)\n",
        "  y_pred = np.argmax(Y_pred, axis=1)\n",
        "\n",
        "  print('\\nConfusion Matrix\\n')\n",
        "  print(confusion_matrix(validation_generator.classes, y_pred))\n",
        "\n",
        "\n",
        "  print('\\n\\nClassification Report\\n')\n",
        "  target_names = ['1', '2', '3']\n",
        "  print(classification_report(validation_generator.classes, y_pred, target_names=target_names))"
      ],
      "execution_count": 82,
      "outputs": []
    },
    {
      "cell_type": "code",
      "metadata": {
        "id": "upqfLzKci7Gs",
        "colab": {
          "base_uri": "https://localhost:8080/"
        },
        "outputId": "24c007ac-f40e-4af2-8028-c3b8b2b459e5"
      },
      "source": [
        "evaluate(model)"
      ],
      "execution_count": 83,
      "outputs": [
        {
          "output_type": "stream",
          "name": "stdout",
          "text": [
            "Found 305 images belonging to 3 classes.\n"
          ]
        },
        {
          "output_type": "stream",
          "name": "stderr",
          "text": [
            "/usr/local/lib/python3.7/dist-packages/ipykernel_launcher.py:14: UserWarning: `Model.predict_generator` is deprecated and will be removed in a future version. Please use `Model.predict`, which supports generators.\n",
            "  \n"
          ]
        },
        {
          "output_type": "stream",
          "name": "stdout",
          "text": [
            "\n",
            "Confusion Matrix\n",
            "\n",
            "[[ 50  16   4]\n",
            " [ 10 132   0]\n",
            " [  4   0  89]]\n",
            "\n",
            "\n",
            "Classification Report\n",
            "\n",
            "              precision    recall  f1-score   support\n",
            "\n",
            "           1       0.78      0.71      0.75        70\n",
            "           2       0.89      0.93      0.91       142\n",
            "           3       0.96      0.96      0.96        93\n",
            "\n",
            "    accuracy                           0.89       305\n",
            "   macro avg       0.88      0.87      0.87       305\n",
            "weighted avg       0.89      0.89      0.89       305\n",
            "\n"
          ]
        }
      ]
    }
  ]
}