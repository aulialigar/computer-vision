{
  "cells": [
    {
      "cell_type": "markdown",
      "metadata": {
        "id": "view-in-github",
        "colab_type": "text"
      },
      "source": [
        "<a href=\"https://colab.research.google.com/github/aulialigar/computer-vision/blob/main/TKC_VGG.ipynb\" target=\"_parent\"><img src=\"https://colab.research.google.com/assets/colab-badge.svg\" alt=\"Open In Colab\"/></a>"
      ]
    },
    {
      "cell_type": "code",
      "execution_count": 1,
      "metadata": {
        "colab": {
          "base_uri": "https://localhost:8080/"
        },
        "id": "Jjw6Tao1oS9W",
        "outputId": "3e74d0ea-cf17-47c4-bcd8-b3290f31d19b"
      },
      "outputs": [
        {
          "output_type": "stream",
          "name": "stdout",
          "text": [
            "Mounted at /content/drive\n",
            "1  2  3\n"
          ]
        }
      ],
      "source": [
        "import os\n",
        "from google.colab import drive\n",
        "drive.mount('/content/drive')\n",
        "\n",
        "os.chdir('/content/drive/My Drive/TKC')\n",
        "!ls -a"
      ]
    },
    {
      "cell_type": "code",
      "execution_count": 2,
      "metadata": {
        "id": "IGVPzQluotJS"
      },
      "outputs": [],
      "source": [
        "import cv2\n",
        "from PIL import Image\n",
        "import tensorflow as tf\n",
        "from keras import backend as K\n",
        "from keras.models import load_model\n",
        "from keras.preprocessing.image import img_to_array\n",
        "from tensorflow.keras.optimizers import Adam, RMSprop\n",
        "from tensorflow.keras.callbacks import ReduceLROnPlateau\n",
        "from tensorflow.keras.preprocessing.image import ImageDataGenerator"
      ]
    },
    {
      "cell_type": "code",
      "execution_count": 3,
      "metadata": {
        "id": "UpucnSRUqtBm"
      },
      "outputs": [],
      "source": [
        "base_dir = '/content/drive/My Drive/TKC'"
      ]
    },
    {
      "cell_type": "code",
      "execution_count": 4,
      "metadata": {
        "id": "XEhAXNuRqAPd"
      },
      "outputs": [],
      "source": [
        "IMAGE_SIZE = [150, 150]"
      ]
    },
    {
      "cell_type": "code",
      "execution_count": 5,
      "metadata": {
        "id": "0PSMietnpJ0F"
      },
      "outputs": [],
      "source": [
        "train_datagen = ImageDataGenerator(\n",
        "                    rescale=1./255,\n",
        "                    rotation_range=20,\n",
        "                    horizontal_flip=True,\n",
        "                    shear_range = 0.2,\n",
        "                    fill_mode = 'wrap',\n",
        "                    validation_split=0.1)\n",
        " \n",
        "validation_datagen = ImageDataGenerator(\n",
        "                    rescale=1./255,\n",
        "                    rotation_range=20,\n",
        "                    horizontal_flip=True,\n",
        "                    shear_range = 0.2,\n",
        "                    fill_mode = 'wrap',\n",
        "                    validation_split=0.1)"
      ]
    },
    {
      "cell_type": "code",
      "execution_count": 6,
      "metadata": {
        "colab": {
          "base_uri": "https://localhost:8080/"
        },
        "id": "xrz1ATuXpLng",
        "outputId": "ae005c9d-aed7-4693-cbd6-521a8c90a0a9"
      },
      "outputs": [
        {
          "output_type": "stream",
          "name": "stdout",
          "text": [
            "Found 2768 images belonging to 3 classes.\n",
            "Found 305 images belonging to 3 classes.\n"
          ]
        }
      ],
      "source": [
        "# persiapan data training\n",
        "train_generator = train_datagen.flow_from_directory(\n",
        "        base_dir,  \n",
        "        # mengubah resolusi seluruh gambar menjadi 150x150 piksel\n",
        "        target_size=IMAGE_SIZE,\n",
        "        shuffle = True,\n",
        "        subset='training',\n",
        "        class_mode='categorical')\n",
        "\n",
        "# persiapan data validasi\n",
        "validation_generator = validation_datagen.flow_from_directory(\n",
        "        base_dir, \n",
        "        # mengubah resolusi seluruh gambar menjadi 150x150 piksel\n",
        "        target_size=IMAGE_SIZE,\n",
        "        subset='validation',\n",
        "        class_mode='categorical')"
      ]
    },
    {
      "cell_type": "code",
      "execution_count": 7,
      "metadata": {
        "colab": {
          "base_uri": "https://localhost:8080/"
        },
        "id": "JidY9dMPpd41",
        "outputId": "0f1810f4-2bec-4fb4-852d-f034ae04b0ba"
      },
      "outputs": [
        {
          "output_type": "execute_result",
          "data": {
            "text/plain": [
              "10"
            ]
          },
          "metadata": {},
          "execution_count": 7
        }
      ],
      "source": [
        "len(train_generator)\n",
        "len(validation_generator)"
      ]
    },
    {
      "cell_type": "code",
      "execution_count": 8,
      "metadata": {
        "colab": {
          "base_uri": "https://localhost:8080/"
        },
        "id": "aVmBgO8CpxXf",
        "outputId": "1290b177-b058-40c1-800e-043a7cbe0145"
      },
      "outputs": [
        {
          "output_type": "stream",
          "name": "stdout",
          "text": [
            "Downloading data from https://storage.googleapis.com/tensorflow/keras-applications/vgg16/vgg16_weights_tf_dim_ordering_tf_kernels_notop.h5\n",
            "58892288/58889256 [==============================] - 1s 0us/step\n",
            "58900480/58889256 [==============================] - 1s 0us/step\n"
          ]
        }
      ],
      "source": [
        "pre_trained_model = tf.keras.applications.VGG16(input_shape=(150, 150, 3), include_top=False, weights=\"imagenet\")"
      ]
    },
    {
      "cell_type": "code",
      "execution_count": 9,
      "metadata": {
        "colab": {
          "base_uri": "https://localhost:8080/"
        },
        "id": "gxJqcJ4xqQ1C",
        "outputId": "2b7d869e-4bda-4f80-8d3c-72edaacb3d09"
      },
      "outputs": [
        {
          "output_type": "stream",
          "name": "stdout",
          "text": [
            "input_1\n",
            "block1_conv1\n",
            "block1_conv2\n",
            "block1_pool\n",
            "block2_conv1\n",
            "block2_conv2\n",
            "block2_pool\n",
            "block3_conv1\n",
            "block3_conv2\n",
            "block3_conv3\n",
            "block3_pool\n",
            "block4_conv1\n",
            "block4_conv2\n",
            "block4_conv3\n",
            "block4_pool\n",
            "block5_conv1\n",
            "block5_conv2\n",
            "block5_conv3\n",
            "block5_pool\n"
          ]
        }
      ],
      "source": [
        "for layer in pre_trained_model.layers:\n",
        "  print(layer.name)\n",
        "  layer.trainable = False"
      ]
    },
    {
      "cell_type": "code",
      "execution_count": 10,
      "metadata": {
        "id": "r1nzHoSoq8ar"
      },
      "outputs": [],
      "source": [
        "last_layer = pre_trained_model.get_layer('block5_pool')\n",
        "last_output = last_layer.output\n",
        "x = tf.keras.layers.GlobalMaxPooling2D()(last_output)\n",
        "x = tf.keras.layers.Dense(512, activation='relu')(x)\n",
        "x = tf.keras.layers.Dropout(0.5)(x)\n",
        "x = tf.keras.layers.Dense(3, activation='softmax')(x)"
      ]
    },
    {
      "cell_type": "code",
      "execution_count": 11,
      "metadata": {
        "id": "x1oSm6vhrHOn"
      },
      "outputs": [],
      "source": [
        "model = tf.keras.Model(pre_trained_model.input, x)"
      ]
    },
    {
      "cell_type": "code",
      "execution_count": 12,
      "metadata": {
        "id": "QXz-oKBQrJCO"
      },
      "outputs": [],
      "source": [
        "model.compile(optimizer='adam', loss=tf.keras.losses.categorical_crossentropy, metrics=['acc'])"
      ]
    },
    {
      "cell_type": "code",
      "execution_count": 13,
      "metadata": {
        "colab": {
          "base_uri": "https://localhost:8080/"
        },
        "id": "Dn3vuU4erSk-",
        "outputId": "bcab70a3-090e-4afd-ae7f-61a2e8d0176e"
      },
      "outputs": [
        {
          "output_type": "stream",
          "name": "stdout",
          "text": [
            "Epoch 1/100\n",
            "87/87 [==============================] - 873s 10s/step - loss: 0.7966 - acc: 0.6568 - val_loss: 0.5154 - val_acc: 0.8033\n",
            "Epoch 2/100\n",
            "87/87 [==============================] - 63s 729ms/step - loss: 0.5228 - acc: 0.7691 - val_loss: 0.7022 - val_acc: 0.6656\n",
            "Epoch 3/100\n",
            "87/87 [==============================] - 62s 715ms/step - loss: 0.4556 - acc: 0.8053 - val_loss: 0.5210 - val_acc: 0.7836\n",
            "Epoch 4/100\n",
            "87/87 [==============================] - 62s 713ms/step - loss: 0.4522 - acc: 0.8111 - val_loss: 0.5205 - val_acc: 0.7738\n",
            "Epoch 5/100\n",
            "87/87 [==============================] - 62s 718ms/step - loss: 0.4172 - acc: 0.8183 - val_loss: 0.4670 - val_acc: 0.8000\n",
            "Epoch 6/100\n",
            "87/87 [==============================] - 63s 728ms/step - loss: 0.4102 - acc: 0.8316 - val_loss: 0.5983 - val_acc: 0.7410\n",
            "Epoch 7/100\n",
            "87/87 [==============================] - 63s 727ms/step - loss: 0.4124 - acc: 0.8208 - val_loss: 0.3924 - val_acc: 0.8262\n",
            "Epoch 8/100\n",
            "87/87 [==============================] - 63s 721ms/step - loss: 0.3828 - acc: 0.8389 - val_loss: 0.5476 - val_acc: 0.7607\n",
            "Epoch 9/100\n",
            "87/87 [==============================] - 62s 714ms/step - loss: 0.3632 - acc: 0.8497 - val_loss: 0.5225 - val_acc: 0.7607\n",
            "Epoch 10/100\n",
            "87/87 [==============================] - 63s 718ms/step - loss: 0.3557 - acc: 0.8461 - val_loss: 0.4437 - val_acc: 0.8262\n",
            "Epoch 11/100\n",
            "87/87 [==============================] - 62s 717ms/step - loss: 0.3672 - acc: 0.8443 - val_loss: 0.3879 - val_acc: 0.8295\n",
            "Epoch 12/100\n",
            "87/87 [==============================] - 62s 718ms/step - loss: 0.3370 - acc: 0.8573 - val_loss: 0.4884 - val_acc: 0.7934\n",
            "Epoch 13/100\n",
            "87/87 [==============================] - 62s 716ms/step - loss: 0.3375 - acc: 0.8620 - val_loss: 0.4186 - val_acc: 0.8262\n",
            "Epoch 14/100\n",
            "87/87 [==============================] - 63s 722ms/step - loss: 0.3318 - acc: 0.8605 - val_loss: 0.4997 - val_acc: 0.7934\n",
            "Epoch 15/100\n",
            "87/87 [==============================] - 63s 722ms/step - loss: 0.3256 - acc: 0.8678 - val_loss: 0.5041 - val_acc: 0.8000\n",
            "Epoch 16/100\n",
            "87/87 [==============================] - 63s 721ms/step - loss: 0.3170 - acc: 0.8660 - val_loss: 0.5233 - val_acc: 0.7934\n",
            "Epoch 17/100\n",
            "87/87 [==============================] - 63s 722ms/step - loss: 0.2961 - acc: 0.8754 - val_loss: 0.4982 - val_acc: 0.8164\n",
            "Epoch 18/100\n",
            "87/87 [==============================] - 63s 722ms/step - loss: 0.2968 - acc: 0.8739 - val_loss: 0.4277 - val_acc: 0.8164\n",
            "Epoch 19/100\n",
            "87/87 [==============================] - 63s 722ms/step - loss: 0.3151 - acc: 0.8707 - val_loss: 0.3994 - val_acc: 0.8459\n",
            "Epoch 20/100\n",
            "87/87 [==============================] - 63s 724ms/step - loss: 0.2968 - acc: 0.8736 - val_loss: 0.4376 - val_acc: 0.8197\n",
            "Epoch 21/100\n",
            "87/87 [==============================] - 63s 728ms/step - loss: 0.2965 - acc: 0.8793 - val_loss: 0.4456 - val_acc: 0.8098\n",
            "Epoch 22/100\n",
            "87/87 [==============================] - 63s 726ms/step - loss: 0.2922 - acc: 0.8808 - val_loss: 0.4414 - val_acc: 0.8197\n",
            "Epoch 23/100\n",
            "87/87 [==============================] - 63s 724ms/step - loss: 0.2830 - acc: 0.8848 - val_loss: 0.5684 - val_acc: 0.7836\n",
            "Epoch 24/100\n",
            "87/87 [==============================] - 63s 725ms/step - loss: 0.2953 - acc: 0.8775 - val_loss: 0.5476 - val_acc: 0.7639\n",
            "Epoch 25/100\n",
            "87/87 [==============================] - 64s 734ms/step - loss: 0.2927 - acc: 0.8783 - val_loss: 0.5522 - val_acc: 0.7836\n",
            "Epoch 26/100\n",
            "87/87 [==============================] - 65s 750ms/step - loss: 0.2773 - acc: 0.8887 - val_loss: 0.4351 - val_acc: 0.8295\n",
            "Epoch 27/100\n",
            "87/87 [==============================] - 63s 727ms/step - loss: 0.2795 - acc: 0.8945 - val_loss: 0.3664 - val_acc: 0.8557\n",
            "Epoch 28/100\n",
            "87/87 [==============================] - 63s 722ms/step - loss: 0.2672 - acc: 0.8880 - val_loss: 0.5451 - val_acc: 0.7902\n",
            "Epoch 29/100\n",
            "87/87 [==============================] - 64s 730ms/step - loss: 0.2657 - acc: 0.8880 - val_loss: 0.5204 - val_acc: 0.8000\n",
            "Epoch 30/100\n",
            "87/87 [==============================] - 63s 729ms/step - loss: 0.2555 - acc: 0.8952 - val_loss: 0.5182 - val_acc: 0.7967\n",
            "Epoch 31/100\n",
            "87/87 [==============================] - 63s 727ms/step - loss: 0.2640 - acc: 0.8905 - val_loss: 0.3552 - val_acc: 0.8787\n",
            "Epoch 32/100\n",
            "87/87 [==============================] - 63s 718ms/step - loss: 0.2675 - acc: 0.8887 - val_loss: 0.4774 - val_acc: 0.8197\n",
            "Epoch 33/100\n",
            "87/87 [==============================] - 63s 726ms/step - loss: 0.2956 - acc: 0.8783 - val_loss: 0.5212 - val_acc: 0.7803\n",
            "Epoch 34/100\n",
            "87/87 [==============================] - 63s 725ms/step - loss: 0.2643 - acc: 0.8848 - val_loss: 0.4532 - val_acc: 0.8295\n",
            "Epoch 35/100\n",
            "87/87 [==============================] - 62s 717ms/step - loss: 0.2525 - acc: 0.8887 - val_loss: 0.3860 - val_acc: 0.8426\n",
            "Epoch 36/100\n",
            "87/87 [==============================] - 62s 714ms/step - loss: 0.2522 - acc: 0.8945 - val_loss: 0.4159 - val_acc: 0.8525\n",
            "Epoch 37/100\n",
            "87/87 [==============================] - 62s 714ms/step - loss: 0.2537 - acc: 0.8920 - val_loss: 0.4595 - val_acc: 0.8230\n",
            "Epoch 38/100\n",
            "87/87 [==============================] - 62s 715ms/step - loss: 0.2476 - acc: 0.8970 - val_loss: 0.4292 - val_acc: 0.8230\n",
            "Epoch 39/100\n",
            "87/87 [==============================] - 63s 719ms/step - loss: 0.2562 - acc: 0.8949 - val_loss: 0.4575 - val_acc: 0.8557\n",
            "Epoch 40/100\n",
            "87/87 [==============================] - 63s 718ms/step - loss: 0.2592 - acc: 0.8902 - val_loss: 0.4863 - val_acc: 0.8197\n",
            "Epoch 41/100\n",
            "87/87 [==============================] - 62s 713ms/step - loss: 0.2551 - acc: 0.8981 - val_loss: 0.3955 - val_acc: 0.8623\n",
            "Epoch 42/100\n",
            "87/87 [==============================] - 62s 714ms/step - loss: 0.2403 - acc: 0.9025 - val_loss: 0.3915 - val_acc: 0.8623\n",
            "Epoch 43/100\n",
            "87/87 [==============================] - 62s 718ms/step - loss: 0.2447 - acc: 0.8974 - val_loss: 0.3386 - val_acc: 0.8689\n",
            "Epoch 44/100\n",
            "87/87 [==============================] - 64s 732ms/step - loss: 0.2259 - acc: 0.9046 - val_loss: 0.3506 - val_acc: 0.8689\n",
            "Epoch 45/100\n",
            "87/87 [==============================] - 62s 715ms/step - loss: 0.2282 - acc: 0.9079 - val_loss: 0.3415 - val_acc: 0.8656\n",
            "Epoch 46/100\n",
            "87/87 [==============================] - 62s 718ms/step - loss: 0.2167 - acc: 0.9075 - val_loss: 0.3735 - val_acc: 0.8689\n",
            "Epoch 47/100\n",
            "87/87 [==============================] - 62s 715ms/step - loss: 0.2263 - acc: 0.9072 - val_loss: 0.4232 - val_acc: 0.8426\n",
            "Epoch 48/100\n",
            "87/87 [==============================] - 62s 716ms/step - loss: 0.2272 - acc: 0.9057 - val_loss: 0.3686 - val_acc: 0.8721\n",
            "Epoch 49/100\n",
            "87/87 [==============================] - 63s 727ms/step - loss: 0.2225 - acc: 0.9072 - val_loss: 0.4402 - val_acc: 0.8426\n",
            "Epoch 50/100\n",
            "87/87 [==============================] - 63s 723ms/step - loss: 0.2240 - acc: 0.9140 - val_loss: 0.4270 - val_acc: 0.8459\n",
            "Epoch 51/100\n",
            "87/87 [==============================] - 63s 721ms/step - loss: 0.2149 - acc: 0.9169 - val_loss: 0.4267 - val_acc: 0.8590\n",
            "Epoch 52/100\n",
            "87/87 [==============================] - 63s 723ms/step - loss: 0.2194 - acc: 0.9100 - val_loss: 0.3704 - val_acc: 0.8525\n",
            "Epoch 53/100\n",
            "87/87 [==============================] - 63s 725ms/step - loss: 0.2126 - acc: 0.9111 - val_loss: 0.3432 - val_acc: 0.8557\n",
            "Epoch 54/100\n",
            "87/87 [==============================] - 63s 729ms/step - loss: 0.2151 - acc: 0.9151 - val_loss: 0.3582 - val_acc: 0.8623\n",
            "Epoch 55/100\n",
            "87/87 [==============================] - 64s 733ms/step - loss: 0.2085 - acc: 0.9173 - val_loss: 0.4882 - val_acc: 0.8164\n",
            "Epoch 56/100\n",
            "87/87 [==============================] - 63s 721ms/step - loss: 0.2181 - acc: 0.9147 - val_loss: 0.4454 - val_acc: 0.8656\n",
            "Epoch 57/100\n",
            "87/87 [==============================] - 63s 729ms/step - loss: 0.2124 - acc: 0.9137 - val_loss: 0.4909 - val_acc: 0.7869\n",
            "Epoch 58/100\n",
            "87/87 [==============================] - 63s 726ms/step - loss: 0.2181 - acc: 0.9111 - val_loss: 0.5411 - val_acc: 0.7738\n",
            "Epoch 59/100\n",
            "87/87 [==============================] - 64s 730ms/step - loss: 0.2081 - acc: 0.9169 - val_loss: 0.3707 - val_acc: 0.8557\n",
            "Epoch 60/100\n",
            "87/87 [==============================] - 63s 728ms/step - loss: 0.1988 - acc: 0.9173 - val_loss: 0.4622 - val_acc: 0.8426\n",
            "Epoch 61/100\n",
            "87/87 [==============================] - 63s 727ms/step - loss: 0.2091 - acc: 0.9126 - val_loss: 0.3477 - val_acc: 0.8754\n",
            "Epoch 62/100\n",
            "87/87 [==============================] - 64s 730ms/step - loss: 0.2021 - acc: 0.9187 - val_loss: 0.3526 - val_acc: 0.8689\n",
            "Epoch 63/100\n",
            "87/87 [==============================] - 64s 733ms/step - loss: 0.1939 - acc: 0.9216 - val_loss: 0.3602 - val_acc: 0.8721\n",
            "Epoch 64/100\n",
            "87/87 [==============================] - 64s 738ms/step - loss: 0.2106 - acc: 0.9169 - val_loss: 0.3895 - val_acc: 0.8525\n",
            "Epoch 65/100\n",
            "87/87 [==============================] - 64s 739ms/step - loss: 0.1905 - acc: 0.9238 - val_loss: 0.4085 - val_acc: 0.8656\n",
            "Epoch 66/100\n",
            "87/87 [==============================] - 64s 739ms/step - loss: 0.1830 - acc: 0.9288 - val_loss: 0.4465 - val_acc: 0.8525\n",
            "Epoch 67/100\n",
            "87/87 [==============================] - 64s 740ms/step - loss: 0.1930 - acc: 0.9158 - val_loss: 0.4203 - val_acc: 0.8525\n",
            "Epoch 68/100\n",
            "87/87 [==============================] - 69s 790ms/step - loss: 0.1959 - acc: 0.9245 - val_loss: 0.4177 - val_acc: 0.8525\n",
            "Epoch 69/100\n",
            "87/87 [==============================] - 65s 747ms/step - loss: 0.2035 - acc: 0.9147 - val_loss: 0.6017 - val_acc: 0.7836\n",
            "Epoch 70/100\n",
            "87/87 [==============================] - 64s 736ms/step - loss: 0.1803 - acc: 0.9230 - val_loss: 0.4643 - val_acc: 0.8131\n",
            "Epoch 71/100\n",
            "87/87 [==============================] - 65s 745ms/step - loss: 0.1674 - acc: 0.9288 - val_loss: 0.3672 - val_acc: 0.8623\n",
            "Epoch 72/100\n",
            "87/87 [==============================] - 65s 750ms/step - loss: 0.1851 - acc: 0.9227 - val_loss: 0.6031 - val_acc: 0.8000\n",
            "Epoch 73/100\n",
            "87/87 [==============================] - 65s 747ms/step - loss: 0.1923 - acc: 0.9173 - val_loss: 0.5719 - val_acc: 0.8098\n",
            "Epoch 74/100\n",
            "87/87 [==============================] - 66s 754ms/step - loss: 0.1762 - acc: 0.9256 - val_loss: 0.4983 - val_acc: 0.8459\n",
            "Epoch 75/100\n",
            "87/87 [==============================] - 64s 738ms/step - loss: 0.1970 - acc: 0.9220 - val_loss: 0.3913 - val_acc: 0.8492\n",
            "Epoch 76/100\n",
            "87/87 [==============================] - 64s 738ms/step - loss: 0.1934 - acc: 0.9162 - val_loss: 0.4205 - val_acc: 0.8393\n",
            "Epoch 77/100\n",
            "87/87 [==============================] - 64s 732ms/step - loss: 0.1899 - acc: 0.9205 - val_loss: 0.3787 - val_acc: 0.8623\n",
            "Epoch 78/100\n",
            "87/87 [==============================] - 63s 729ms/step - loss: 0.1678 - acc: 0.9332 - val_loss: 0.4132 - val_acc: 0.8590\n",
            "Epoch 79/100\n",
            "87/87 [==============================] - 64s 734ms/step - loss: 0.1662 - acc: 0.9328 - val_loss: 0.4846 - val_acc: 0.8492\n",
            "Epoch 80/100\n",
            "87/87 [==============================] - 64s 732ms/step - loss: 0.1739 - acc: 0.9281 - val_loss: 0.6029 - val_acc: 0.7803\n",
            "Epoch 81/100\n",
            "87/87 [==============================] - 64s 736ms/step - loss: 0.1699 - acc: 0.9303 - val_loss: 0.5750 - val_acc: 0.8230\n",
            "Epoch 82/100\n",
            "87/87 [==============================] - 64s 737ms/step - loss: 0.1741 - acc: 0.9252 - val_loss: 0.5084 - val_acc: 0.8131\n",
            "Epoch 83/100\n",
            "87/87 [==============================] - 65s 742ms/step - loss: 0.1694 - acc: 0.9310 - val_loss: 0.4711 - val_acc: 0.8361\n",
            "Epoch 84/100\n",
            "87/87 [==============================] - 65s 751ms/step - loss: 0.1659 - acc: 0.9306 - val_loss: 0.3505 - val_acc: 0.8787\n",
            "Epoch 85/100\n",
            "87/87 [==============================] - 65s 751ms/step - loss: 0.1619 - acc: 0.9321 - val_loss: 0.5274 - val_acc: 0.8197\n",
            "Epoch 86/100\n",
            "87/87 [==============================] - 65s 748ms/step - loss: 0.1585 - acc: 0.9353 - val_loss: 0.4821 - val_acc: 0.8131\n",
            "Epoch 87/100\n",
            "87/87 [==============================] - 64s 741ms/step - loss: 0.1608 - acc: 0.9364 - val_loss: 0.4653 - val_acc: 0.8459\n",
            "Epoch 88/100\n",
            "87/87 [==============================] - 64s 739ms/step - loss: 0.1553 - acc: 0.9350 - val_loss: 0.4735 - val_acc: 0.8459\n",
            "Epoch 89/100\n",
            "87/87 [==============================] - 64s 735ms/step - loss: 0.1611 - acc: 0.9324 - val_loss: 0.4220 - val_acc: 0.8328\n",
            "Epoch 90/100\n",
            "87/87 [==============================] - 64s 741ms/step - loss: 0.1634 - acc: 0.9321 - val_loss: 0.3592 - val_acc: 0.8557\n",
            "Epoch 91/100\n",
            "87/87 [==============================] - 64s 737ms/step - loss: 0.1456 - acc: 0.9433 - val_loss: 0.5369 - val_acc: 0.8262\n",
            "Epoch 92/100\n",
            "87/87 [==============================] - 64s 740ms/step - loss: 0.1823 - acc: 0.9259 - val_loss: 0.4630 - val_acc: 0.8164\n",
            "Epoch 93/100\n",
            "87/87 [==============================] - 64s 738ms/step - loss: 0.1484 - acc: 0.9422 - val_loss: 0.4121 - val_acc: 0.8361\n",
            "Epoch 94/100\n",
            "87/87 [==============================] - 65s 742ms/step - loss: 0.1525 - acc: 0.9393 - val_loss: 0.4196 - val_acc: 0.8525\n",
            "Epoch 95/100\n",
            "87/87 [==============================] - 65s 752ms/step - loss: 0.1651 - acc: 0.9342 - val_loss: 0.4620 - val_acc: 0.8525\n",
            "Epoch 96/100\n",
            "87/87 [==============================] - 65s 750ms/step - loss: 0.1645 - acc: 0.9346 - val_loss: 0.3849 - val_acc: 0.8689\n",
            "Epoch 97/100\n",
            "87/87 [==============================] - 65s 743ms/step - loss: 0.1556 - acc: 0.9379 - val_loss: 0.6134 - val_acc: 0.8066\n",
            "Epoch 98/100\n",
            "87/87 [==============================] - 65s 742ms/step - loss: 0.1613 - acc: 0.9375 - val_loss: 0.4665 - val_acc: 0.8557\n",
            "Epoch 99/100\n",
            "87/87 [==============================] - 65s 747ms/step - loss: 0.1418 - acc: 0.9462 - val_loss: 0.5321 - val_acc: 0.8262\n",
            "Epoch 100/100\n",
            "87/87 [==============================] - 64s 733ms/step - loss: 0.1641 - acc: 0.9339 - val_loss: 0.5236 - val_acc: 0.8361\n"
          ]
        }
      ],
      "source": [
        "vgg_classifier = model.fit(train_generator,\n",
        "    validation_data = validation_generator,\n",
        "    epochs = 100)"
      ]
    },
    {
      "cell_type": "code",
      "source": [
        "from sklearn.metrics import classification_report, confusion_matrix\n",
        "import numpy as np"
      ],
      "metadata": {
        "id": "mKY8oxEGmEIj"
      },
      "execution_count": 17,
      "outputs": []
    },
    {
      "cell_type": "code",
      "source": [
        "def evaluate(model):\n",
        "\n",
        "  validation_generator = validation_datagen.flow_from_directory(\n",
        "          base_dir, \n",
        "          target_size=(150,150), \n",
        "          batch_size=32, \n",
        "          class_mode='categorical',\n",
        "          shuffle = False,\n",
        "          subset='validation')\n",
        "\n",
        "  batch_size = 32\n",
        "  num_of_test_samples = len(validation_generator.filenames)\n",
        "\n",
        "  Y_pred = model.predict_generator(validation_generator, num_of_test_samples // batch_size+1)\n",
        "  y_pred = np.argmax(Y_pred, axis=1)\n",
        "\n",
        "  print('\\nConfusion Matrix\\n')\n",
        "  print(confusion_matrix(validation_generator.classes, y_pred))\n",
        "\n",
        "\n",
        "  print('\\n\\nClassification Report\\n')\n",
        "  target_names = ['1', '2', '3']\n",
        "  print(classification_report(validation_generator.classes, y_pred, target_names=target_names))"
      ],
      "metadata": {
        "id": "ui5XvxN1mF6M"
      },
      "execution_count": 18,
      "outputs": []
    },
    {
      "cell_type": "code",
      "source": [
        "evaluate(model)"
      ],
      "metadata": {
        "colab": {
          "base_uri": "https://localhost:8080/"
        },
        "id": "nPcNP3OTmzYI",
        "outputId": "f4760042-2e0e-4408-9297-67d4dcac35d2"
      },
      "execution_count": 19,
      "outputs": [
        {
          "output_type": "stream",
          "name": "stdout",
          "text": [
            "Found 305 images belonging to 3 classes.\n"
          ]
        },
        {
          "output_type": "stream",
          "name": "stderr",
          "text": [
            "/usr/local/lib/python3.7/dist-packages/ipykernel_launcher.py:14: UserWarning: `Model.predict_generator` is deprecated and will be removed in a future version. Please use `Model.predict`, which supports generators.\n",
            "  \n"
          ]
        },
        {
          "output_type": "stream",
          "name": "stdout",
          "text": [
            "\n",
            "Confusion Matrix\n",
            "\n",
            "[[ 33  34   3]\n",
            " [ 13 129   0]\n",
            " [  3   4  86]]\n",
            "\n",
            "\n",
            "Classification Report\n",
            "\n",
            "              precision    recall  f1-score   support\n",
            "\n",
            "           1       0.67      0.47      0.55        70\n",
            "           2       0.77      0.91      0.83       142\n",
            "           3       0.97      0.92      0.95        93\n",
            "\n",
            "    accuracy                           0.81       305\n",
            "   macro avg       0.80      0.77      0.78       305\n",
            "weighted avg       0.81      0.81      0.80       305\n",
            "\n"
          ]
        }
      ]
    },
    {
      "cell_type": "code",
      "source": [
        "model.save('vgg.h5')"
      ],
      "metadata": {
        "id": "z62Yvb_KkGY2"
      },
      "execution_count": 20,
      "outputs": []
    },
    {
      "cell_type": "code",
      "execution_count": null,
      "metadata": {
        "id": "BKarisyu9iyp"
      },
      "outputs": [],
      "source": [
        "# https://medium.com/nerd-for-tech/image-classification-using-transfer-learning-vgg-16-2dc2221be34c"
      ]
    }
  ],
  "metadata": {
    "colab": {
      "name": "TKC VGG.ipynb",
      "provenance": [],
      "collapsed_sections": [],
      "include_colab_link": true
    },
    "kernelspec": {
      "display_name": "Python 3",
      "name": "python3"
    },
    "language_info": {
      "name": "python"
    },
    "accelerator": "GPU"
  },
  "nbformat": 4,
  "nbformat_minor": 0
}
