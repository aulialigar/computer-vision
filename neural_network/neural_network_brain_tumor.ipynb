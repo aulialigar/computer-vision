{
  "nbformat": 4,
  "nbformat_minor": 0,
  "metadata": {
    "accelerator": "GPU",
    "colab": {
      "name": "neural_network.ipynb",
      "provenance": [],
      "collapsed_sections": [],
      "include_colab_link": true
    },
    "kernelspec": {
      "display_name": "Python 3",
      "name": "python3"
    },
    "language_info": {
      "name": "python"
    }
  },
  "cells": [
    {
      "cell_type": "markdown",
      "metadata": {
        "id": "view-in-github",
        "colab_type": "text"
      },
      "source": [
        "<a href=\"https://colab.research.google.com/github/aulialigar/computer-vision/blob/main/neural_network.ipynb\" target=\"_parent\"><img src=\"https://colab.research.google.com/assets/colab-badge.svg\" alt=\"Open In Colab\"/></a>"
      ]
    },
    {
      "cell_type": "code",
      "metadata": {
        "colab": {
          "base_uri": "https://localhost:8080/"
        },
        "id": "HbEtzsONCbXH",
        "outputId": "59526ea4-f6a1-42f8-f79b-790faf9ca258"
      },
      "source": [
        "import os\n",
        "from google.colab import drive\n",
        "drive.mount('/content/drive/')\n",
        "\n",
        "os.chdir('/content/drive/My Drive/TKC')\n",
        "!ls -a"
      ],
      "execution_count": null,
      "outputs": [
        {
          "output_type": "stream",
          "name": "stdout",
          "text": [
            "Mounted at /content/drive/\n",
            " 1   2\t 3  'archive (31).zip'\n"
          ]
        }
      ]
    },
    {
      "cell_type": "code",
      "metadata": {
        "id": "qTUcSDf2CeBY"
      },
      "source": [
        "base_dir = '/content/drive/My Drive/TKC'"
      ],
      "execution_count": null,
      "outputs": []
    },
    {
      "cell_type": "code",
      "metadata": {
        "id": "g4a93N58hpgK"
      },
      "source": [
        "from tensorflow.keras.preprocessing.image import ImageDataGenerator\n",
        " \n",
        "train_datagen = ImageDataGenerator(\n",
        "                    rescale=1./255,\n",
        "                    rotation_range=20,\n",
        "                    horizontal_flip=True,\n",
        "                    shear_range = 0.2,\n",
        "                    fill_mode = 'wrap',\n",
        "                    validation_split=0.1)\n",
        " \n",
        "validation_datagen = ImageDataGenerator(\n",
        "                    rescale=1./255,\n",
        "                    rotation_range=20,\n",
        "                    horizontal_flip=True,\n",
        "                    shear_range = 0.2,\n",
        "                    fill_mode = 'wrap',\n",
        "                    validation_split=0.1)"
      ],
      "execution_count": null,
      "outputs": []
    },
    {
      "cell_type": "code",
      "metadata": {
        "colab": {
          "base_uri": "https://localhost:8080/"
        },
        "id": "pWfk9PTEhzqi",
        "outputId": "0f18ae47-c6f2-40ce-8e96-5bd7153ce53a"
      },
      "source": [
        "# persiapan data training\n",
        "train_generator = train_datagen.flow_from_directory(\n",
        "        base_dir,  \n",
        "        # mengubah resolusi seluruh gambar menjadi 150x150 piksel\n",
        "        target_size=(150, 150),  \n",
        "        shuffle = True,\n",
        "        subset='training',\n",
        "        class_mode='categorical')\n",
        "\n",
        "# persiapan data validasi\n",
        "validation_generator = validation_datagen.flow_from_directory(\n",
        "        base_dir, \n",
        "        # mengubah resolusi seluruh gambar menjadi 150x150 piksel\n",
        "        target_size=(150, 150),  \n",
        "        subset='validation',\n",
        "        class_mode='categorical')"
      ],
      "execution_count": null,
      "outputs": [
        {
          "output_type": "stream",
          "name": "stdout",
          "text": [
            "Found 2768 images belonging to 3 classes.\n",
            "Found 305 images belonging to 3 classes.\n"
          ]
        }
      ]
    },
    {
      "cell_type": "markdown",
      "metadata": {
        "id": "YLD6FXIKC35_"
      },
      "source": [
        "<h3>Definisikan Model</h3>"
      ]
    },
    {
      "cell_type": "code",
      "metadata": {
        "id": "-IpFwrdNC5Sx"
      },
      "source": [
        "import tensorflow as tf"
      ],
      "execution_count": null,
      "outputs": []
    },
    {
      "cell_type": "code",
      "metadata": {
        "id": "ukf5Oh1cC7QH"
      },
      "source": [
        "model = tf.keras.models.Sequential([\n",
        "    tf.keras.layers.Conv2D(32, (3,3), activation='relu', input_shape=(150, 150, 3)),\n",
        "    tf.keras.layers.MaxPooling2D(2, 2),\n",
        "    tf.keras.layers.Conv2D(64, (3,3), activation='relu'),\n",
        "    tf.keras.layers.MaxPooling2D(2,2),\n",
        "    tf.keras.layers.Dropout(0.2),\n",
        "    tf.keras.layers.Conv2D(128, (3,3), activation='relu'),\n",
        "    tf.keras.layers.MaxPooling2D(2,2),\n",
        "    tf.keras.layers.Dropout(0.1),\n",
        "    tf.keras.layers.Conv2D(128, (3,3), activation='relu'),\n",
        "    tf.keras.layers.MaxPooling2D(2,2),\n",
        "    tf.keras.layers.Flatten(),\n",
        "    tf.keras.layers.Dense(512, activation='relu'),\n",
        "    tf.keras.layers.Dense(3, activation='sigmoid')\n",
        "])"
      ],
      "execution_count": null,
      "outputs": []
    },
    {
      "cell_type": "code",
      "metadata": {
        "colab": {
          "base_uri": "https://localhost:8080/"
        },
        "id": "hWPPCl28C8iJ",
        "outputId": "02806447-408f-4640-90f6-23bdea3f491e"
      },
      "source": [
        "# Tampilkan model summary\n",
        "model.summary()"
      ],
      "execution_count": null,
      "outputs": [
        {
          "output_type": "stream",
          "name": "stdout",
          "text": [
            "Model: \"sequential\"\n",
            "_________________________________________________________________\n",
            " Layer (type)                Output Shape              Param #   \n",
            "=================================================================\n",
            " conv2d (Conv2D)             (None, 148, 148, 32)      896       \n",
            "                                                                 \n",
            " max_pooling2d (MaxPooling2D  (None, 74, 74, 32)       0         \n",
            " )                                                               \n",
            "                                                                 \n",
            " conv2d_1 (Conv2D)           (None, 72, 72, 64)        18496     \n",
            "                                                                 \n",
            " max_pooling2d_1 (MaxPooling  (None, 36, 36, 64)       0         \n",
            " 2D)                                                             \n",
            "                                                                 \n",
            " dropout (Dropout)           (None, 36, 36, 64)        0         \n",
            "                                                                 \n",
            " conv2d_2 (Conv2D)           (None, 34, 34, 128)       73856     \n",
            "                                                                 \n",
            " max_pooling2d_2 (MaxPooling  (None, 17, 17, 128)      0         \n",
            " 2D)                                                             \n",
            "                                                                 \n",
            " dropout_1 (Dropout)         (None, 17, 17, 128)       0         \n",
            "                                                                 \n",
            " conv2d_3 (Conv2D)           (None, 15, 15, 128)       147584    \n",
            "                                                                 \n",
            " max_pooling2d_3 (MaxPooling  (None, 7, 7, 128)        0         \n",
            " 2D)                                                             \n",
            "                                                                 \n",
            " flatten (Flatten)           (None, 6272)              0         \n",
            "                                                                 \n",
            " dense (Dense)               (None, 512)               3211776   \n",
            "                                                                 \n",
            " dense_1 (Dense)             (None, 3)                 1539      \n",
            "                                                                 \n",
            "=================================================================\n",
            "Total params: 3,454,147\n",
            "Trainable params: 3,454,147\n",
            "Non-trainable params: 0\n",
            "_________________________________________________________________\n"
          ]
        }
      ]
    },
    {
      "cell_type": "code",
      "metadata": {
        "id": "TD_IAMQnC_ih"
      },
      "source": [
        "from tensorflow.keras.optimizers import Adam\n",
        "\n",
        "# Compile model\n",
        "model.compile(loss='categorical_crossentropy',\n",
        "              optimizer='adam',\n",
        "              metrics=['acc'])"
      ],
      "execution_count": null,
      "outputs": []
    },
    {
      "cell_type": "code",
      "metadata": {
        "id": "_BTSpUVlDAH0",
        "colab": {
          "base_uri": "https://localhost:8080/"
        },
        "outputId": "e7912568-954f-4be1-db51-83528435af20"
      },
      "source": [
        "# latih model dengan model.fit \n",
        "history = model.fit(\n",
        "      train_generator,\n",
        "      steps_per_epoch=25,  # berapa batch yang akan dieksekusi pada setiap epoch\n",
        "      epochs=150, # tambahkan eposchs jika akurasi model belum optimal\n",
        "      validation_data=validation_generator, # menampilkan akurasi pengujian data validasi\n",
        "      validation_steps=5,  # berapa batch yang akan dieksekusi pada setiap epoch\n",
        "      verbose=2)"
      ],
      "execution_count": null,
      "outputs": [
        {
          "output_type": "stream",
          "name": "stdout",
          "text": [
            "Epoch 1/150\n",
            "25/25 - 188s - loss: 1.1054 - acc: 0.4250 - val_loss: 1.0346 - val_acc: 0.4187 - 188s/epoch - 8s/step\n",
            "Epoch 2/150\n",
            "25/25 - 121s - loss: 0.8930 - acc: 0.5863 - val_loss: 0.5994 - val_acc: 0.8000 - 121s/epoch - 5s/step\n",
            "Epoch 3/150\n",
            "25/25 - 83s - loss: 0.7584 - acc: 0.6480 - val_loss: 0.5687 - val_acc: 0.7688 - 83s/epoch - 3s/step\n",
            "Epoch 4/150\n",
            "25/25 - 66s - loss: 0.6216 - acc: 0.7372 - val_loss: 0.5215 - val_acc: 0.8125 - 66s/epoch - 3s/step\n",
            "Epoch 5/150\n",
            "25/25 - 53s - loss: 0.5858 - acc: 0.7275 - val_loss: 0.5420 - val_acc: 0.7812 - 53s/epoch - 2s/step\n",
            "Epoch 6/150\n",
            "25/25 - 44s - loss: 0.5533 - acc: 0.7613 - val_loss: 0.5886 - val_acc: 0.8125 - 44s/epoch - 2s/step\n",
            "Epoch 7/150\n",
            "25/25 - 35s - loss: 0.5234 - acc: 0.7825 - val_loss: 0.4779 - val_acc: 0.8000 - 35s/epoch - 1s/step\n",
            "Epoch 8/150\n",
            "25/25 - 29s - loss: 0.5404 - acc: 0.7602 - val_loss: 0.5628 - val_acc: 0.7125 - 29s/epoch - 1s/step\n",
            "Epoch 9/150\n",
            "25/25 - 25s - loss: 0.4918 - acc: 0.7887 - val_loss: 0.4656 - val_acc: 0.7812 - 25s/epoch - 1s/step\n",
            "Epoch 10/150\n",
            "25/25 - 24s - loss: 0.4413 - acc: 0.8037 - val_loss: 0.4085 - val_acc: 0.8438 - 24s/epoch - 948ms/step\n",
            "Epoch 11/150\n",
            "25/25 - 23s - loss: 0.4695 - acc: 0.7921 - val_loss: 0.3602 - val_acc: 0.8750 - 23s/epoch - 901ms/step\n",
            "Epoch 12/150\n",
            "25/25 - 20s - loss: 0.3978 - acc: 0.8363 - val_loss: 0.5761 - val_acc: 0.7437 - 20s/epoch - 810ms/step\n",
            "Epoch 13/150\n",
            "25/25 - 19s - loss: 0.4211 - acc: 0.8125 - val_loss: 0.4065 - val_acc: 0.8313 - 19s/epoch - 768ms/step\n",
            "Epoch 14/150\n",
            "25/25 - 21s - loss: 0.3942 - acc: 0.8288 - val_loss: 0.4139 - val_acc: 0.8250 - 21s/epoch - 822ms/step\n",
            "Epoch 15/150\n",
            "25/25 - 19s - loss: 0.3860 - acc: 0.8275 - val_loss: 0.5255 - val_acc: 0.7563 - 19s/epoch - 744ms/step\n",
            "Epoch 16/150\n",
            "25/25 - 18s - loss: 0.3685 - acc: 0.8413 - val_loss: 0.5018 - val_acc: 0.8000 - 18s/epoch - 732ms/step\n",
            "Epoch 17/150\n",
            "25/25 - 18s - loss: 0.3690 - acc: 0.8400 - val_loss: 0.3605 - val_acc: 0.8438 - 18s/epoch - 723ms/step\n",
            "Epoch 18/150\n",
            "25/25 - 18s - loss: 0.3346 - acc: 0.8637 - val_loss: 0.4429 - val_acc: 0.8125 - 18s/epoch - 725ms/step\n",
            "Epoch 19/150\n",
            "25/25 - 18s - loss: 0.3738 - acc: 0.8388 - val_loss: 0.4412 - val_acc: 0.8250 - 18s/epoch - 718ms/step\n",
            "Epoch 20/150\n",
            "25/25 - 18s - loss: 0.3023 - acc: 0.8827 - val_loss: 0.3930 - val_acc: 0.8438 - 18s/epoch - 705ms/step\n",
            "Epoch 21/150\n",
            "25/25 - 18s - loss: 0.2995 - acc: 0.8763 - val_loss: 0.4271 - val_acc: 0.8562 - 18s/epoch - 729ms/step\n",
            "Epoch 22/150\n",
            "25/25 - 18s - loss: 0.3012 - acc: 0.8675 - val_loss: 0.5430 - val_acc: 0.8125 - 18s/epoch - 733ms/step\n",
            "Epoch 23/150\n",
            "25/25 - 18s - loss: 0.2860 - acc: 0.8900 - val_loss: 0.4815 - val_acc: 0.8375 - 18s/epoch - 719ms/step\n",
            "Epoch 24/150\n",
            "25/25 - 18s - loss: 0.2873 - acc: 0.8954 - val_loss: 0.3504 - val_acc: 0.8625 - 18s/epoch - 705ms/step\n",
            "Epoch 25/150\n",
            "25/25 - 18s - loss: 0.2088 - acc: 0.9187 - val_loss: 0.2689 - val_acc: 0.9062 - 18s/epoch - 710ms/step\n",
            "Epoch 26/150\n",
            "25/25 - 17s - loss: 0.2750 - acc: 0.8827 - val_loss: 0.3515 - val_acc: 0.8875 - 17s/epoch - 694ms/step\n",
            "Epoch 27/150\n",
            "25/25 - 18s - loss: 0.2627 - acc: 0.8988 - val_loss: 0.3291 - val_acc: 0.8500 - 18s/epoch - 724ms/step\n",
            "Epoch 28/150\n",
            "25/25 - 18s - loss: 0.2159 - acc: 0.9162 - val_loss: 0.2365 - val_acc: 0.9187 - 18s/epoch - 705ms/step\n",
            "Epoch 29/150\n",
            "25/25 - 18s - loss: 0.2290 - acc: 0.9062 - val_loss: 0.3572 - val_acc: 0.8438 - 18s/epoch - 707ms/step\n",
            "Epoch 30/150\n",
            "25/25 - 17s - loss: 0.2160 - acc: 0.9225 - val_loss: 0.3277 - val_acc: 0.8375 - 17s/epoch - 697ms/step\n",
            "Epoch 31/150\n",
            "25/25 - 17s - loss: 0.2130 - acc: 0.9112 - val_loss: 0.4715 - val_acc: 0.8250 - 17s/epoch - 698ms/step\n",
            "Epoch 32/150\n",
            "25/25 - 18s - loss: 0.2564 - acc: 0.8913 - val_loss: 0.3882 - val_acc: 0.8625 - 18s/epoch - 711ms/step\n",
            "Epoch 33/150\n",
            "25/25 - 18s - loss: 0.1762 - acc: 0.9325 - val_loss: 0.2991 - val_acc: 0.8750 - 18s/epoch - 715ms/step\n",
            "Epoch 34/150\n",
            "25/25 - 18s - loss: 0.2079 - acc: 0.9145 - val_loss: 0.2101 - val_acc: 0.9438 - 18s/epoch - 709ms/step\n",
            "Epoch 35/150\n",
            "25/25 - 18s - loss: 0.2168 - acc: 0.9087 - val_loss: 0.3025 - val_acc: 0.8938 - 18s/epoch - 715ms/step\n",
            "Epoch 36/150\n",
            "25/25 - 18s - loss: 0.2068 - acc: 0.9150 - val_loss: 0.3896 - val_acc: 0.8687 - 18s/epoch - 726ms/step\n",
            "Epoch 37/150\n",
            "25/25 - 18s - loss: 0.2105 - acc: 0.9145 - val_loss: 0.2865 - val_acc: 0.9125 - 18s/epoch - 705ms/step\n",
            "Epoch 38/150\n",
            "25/25 - 18s - loss: 0.1494 - acc: 0.9463 - val_loss: 0.3508 - val_acc: 0.9062 - 18s/epoch - 713ms/step\n",
            "Epoch 39/150\n",
            "25/25 - 18s - loss: 0.1658 - acc: 0.9312 - val_loss: 0.2729 - val_acc: 0.9125 - 18s/epoch - 720ms/step\n",
            "Epoch 40/150\n",
            "25/25 - 18s - loss: 0.1748 - acc: 0.9425 - val_loss: 0.2183 - val_acc: 0.9250 - 18s/epoch - 710ms/step\n",
            "Epoch 41/150\n",
            "25/25 - 18s - loss: 0.1691 - acc: 0.9312 - val_loss: 0.2619 - val_acc: 0.8938 - 18s/epoch - 714ms/step\n",
            "Epoch 42/150\n",
            "25/25 - 18s - loss: 0.1591 - acc: 0.9439 - val_loss: 0.3494 - val_acc: 0.8687 - 18s/epoch - 702ms/step\n",
            "Epoch 43/150\n",
            "25/25 - 18s - loss: 0.1218 - acc: 0.9513 - val_loss: 0.3573 - val_acc: 0.8625 - 18s/epoch - 711ms/step\n",
            "Epoch 44/150\n",
            "25/25 - 18s - loss: 0.1885 - acc: 0.9225 - val_loss: 0.2685 - val_acc: 0.9000 - 18s/epoch - 703ms/step\n",
            "Epoch 45/150\n",
            "25/25 - 18s - loss: 0.1066 - acc: 0.9663 - val_loss: 0.4021 - val_acc: 0.9062 - 18s/epoch - 717ms/step\n",
            "Epoch 46/150\n",
            "25/25 - 18s - loss: 0.1319 - acc: 0.9513 - val_loss: 0.5025 - val_acc: 0.8250 - 18s/epoch - 718ms/step\n",
            "Epoch 47/150\n",
            "25/25 - 18s - loss: 0.1586 - acc: 0.9337 - val_loss: 0.4267 - val_acc: 0.9312 - 18s/epoch - 707ms/step\n",
            "Epoch 48/150\n",
            "25/25 - 18s - loss: 0.1472 - acc: 0.9413 - val_loss: 0.3297 - val_acc: 0.8813 - 18s/epoch - 718ms/step\n",
            "Epoch 49/150\n",
            "25/25 - 18s - loss: 0.1495 - acc: 0.9413 - val_loss: 0.3605 - val_acc: 0.8938 - 18s/epoch - 721ms/step\n",
            "Epoch 50/150\n",
            "25/25 - 18s - loss: 0.1509 - acc: 0.9425 - val_loss: 0.2473 - val_acc: 0.9438 - 18s/epoch - 726ms/step\n",
            "Epoch 51/150\n",
            "25/25 - 18s - loss: 0.0972 - acc: 0.9566 - val_loss: 0.3285 - val_acc: 0.8875 - 18s/epoch - 716ms/step\n",
            "Epoch 52/150\n",
            "25/25 - 18s - loss: 0.1069 - acc: 0.9575 - val_loss: 0.2100 - val_acc: 0.9375 - 18s/epoch - 726ms/step\n",
            "Epoch 53/150\n",
            "25/25 - 18s - loss: 0.1825 - acc: 0.9300 - val_loss: 0.4437 - val_acc: 0.8500 - 18s/epoch - 732ms/step\n",
            "Epoch 54/150\n",
            "25/25 - 18s - loss: 0.1269 - acc: 0.9563 - val_loss: 0.3307 - val_acc: 0.9125 - 18s/epoch - 725ms/step\n",
            "Epoch 55/150\n",
            "25/25 - 18s - loss: 0.1302 - acc: 0.9475 - val_loss: 0.4149 - val_acc: 0.8687 - 18s/epoch - 737ms/step\n",
            "Epoch 56/150\n",
            "25/25 - 18s - loss: 0.1171 - acc: 0.9513 - val_loss: 0.2789 - val_acc: 0.9125 - 18s/epoch - 730ms/step\n",
            "Epoch 57/150\n",
            "25/25 - 18s - loss: 0.1318 - acc: 0.9538 - val_loss: 0.2552 - val_acc: 0.9375 - 18s/epoch - 734ms/step\n",
            "Epoch 58/150\n",
            "25/25 - 18s - loss: 0.0957 - acc: 0.9625 - val_loss: 0.3742 - val_acc: 0.8875 - 18s/epoch - 727ms/step\n",
            "Epoch 59/150\n",
            "25/25 - 18s - loss: 0.1023 - acc: 0.9625 - val_loss: 0.4361 - val_acc: 0.9438 - 18s/epoch - 726ms/step\n",
            "Epoch 60/150\n",
            "25/25 - 18s - loss: 0.1072 - acc: 0.9541 - val_loss: 0.2337 - val_acc: 0.9500 - 18s/epoch - 716ms/step\n",
            "Epoch 61/150\n",
            "25/25 - 18s - loss: 0.0751 - acc: 0.9712 - val_loss: 0.3908 - val_acc: 0.9375 - 18s/epoch - 733ms/step\n",
            "Epoch 62/150\n",
            "25/25 - 18s - loss: 0.1170 - acc: 0.9500 - val_loss: 0.3048 - val_acc: 0.9187 - 18s/epoch - 730ms/step\n",
            "Epoch 63/150\n",
            "25/25 - 18s - loss: 0.1290 - acc: 0.9463 - val_loss: 0.2865 - val_acc: 0.8875 - 18s/epoch - 725ms/step\n",
            "Epoch 64/150\n",
            "25/25 - 18s - loss: 0.1177 - acc: 0.9566 - val_loss: 0.3057 - val_acc: 0.9062 - 18s/epoch - 720ms/step\n",
            "Epoch 65/150\n",
            "25/25 - 18s - loss: 0.1109 - acc: 0.9575 - val_loss: 0.2909 - val_acc: 0.9375 - 18s/epoch - 719ms/step\n",
            "Epoch 66/150\n",
            "25/25 - 18s - loss: 0.0746 - acc: 0.9762 - val_loss: 0.3275 - val_acc: 0.9000 - 18s/epoch - 725ms/step\n",
            "Epoch 67/150\n",
            "25/25 - 18s - loss: 0.0928 - acc: 0.9650 - val_loss: 0.3255 - val_acc: 0.8813 - 18s/epoch - 711ms/step\n",
            "Epoch 68/150\n",
            "25/25 - 18s - loss: 0.0793 - acc: 0.9625 - val_loss: 0.3964 - val_acc: 0.8875 - 18s/epoch - 707ms/step\n",
            "Epoch 69/150\n",
            "25/25 - 18s - loss: 0.0757 - acc: 0.9745 - val_loss: 0.3061 - val_acc: 0.9000 - 18s/epoch - 701ms/step\n",
            "Epoch 70/150\n",
            "25/25 - 18s - loss: 0.0782 - acc: 0.9688 - val_loss: 0.3973 - val_acc: 0.9000 - 18s/epoch - 709ms/step\n",
            "Epoch 71/150\n",
            "25/25 - 18s - loss: 0.1237 - acc: 0.9554 - val_loss: 0.3090 - val_acc: 0.9000 - 18s/epoch - 707ms/step\n",
            "Epoch 72/150\n",
            "25/25 - 18s - loss: 0.1065 - acc: 0.9588 - val_loss: 0.4355 - val_acc: 0.8938 - 18s/epoch - 728ms/step\n",
            "Epoch 73/150\n",
            "25/25 - 18s - loss: 0.0700 - acc: 0.9712 - val_loss: 0.2933 - val_acc: 0.9187 - 18s/epoch - 724ms/step\n",
            "Epoch 74/150\n",
            "25/25 - 18s - loss: 0.0784 - acc: 0.9688 - val_loss: 0.4752 - val_acc: 0.8562 - 18s/epoch - 716ms/step\n",
            "Epoch 75/150\n",
            "25/25 - 18s - loss: 0.0609 - acc: 0.9775 - val_loss: 0.2273 - val_acc: 0.9625 - 18s/epoch - 710ms/step\n",
            "Epoch 76/150\n",
            "25/25 - 18s - loss: 0.1051 - acc: 0.9563 - val_loss: 0.7494 - val_acc: 0.8250 - 18s/epoch - 714ms/step\n",
            "Epoch 77/150\n",
            "25/25 - 18s - loss: 0.0826 - acc: 0.9762 - val_loss: 0.6572 - val_acc: 0.9125 - 18s/epoch - 716ms/step\n",
            "Epoch 78/150\n",
            "25/25 - 18s - loss: 0.0852 - acc: 0.9663 - val_loss: 0.3696 - val_acc: 0.8938 - 18s/epoch - 719ms/step\n",
            "Epoch 79/150\n",
            "25/25 - 18s - loss: 0.0631 - acc: 0.9800 - val_loss: 0.4306 - val_acc: 0.9062 - 18s/epoch - 723ms/step\n",
            "Epoch 80/150\n",
            "25/25 - 18s - loss: 0.0560 - acc: 0.9787 - val_loss: 0.3258 - val_acc: 0.9125 - 18s/epoch - 709ms/step\n",
            "Epoch 81/150\n",
            "25/25 - 18s - loss: 0.0645 - acc: 0.9663 - val_loss: 0.1658 - val_acc: 0.9375 - 18s/epoch - 713ms/step\n",
            "Epoch 82/150\n",
            "25/25 - 18s - loss: 0.0667 - acc: 0.9745 - val_loss: 0.4769 - val_acc: 0.9125 - 18s/epoch - 706ms/step\n",
            "Epoch 83/150\n",
            "25/25 - 18s - loss: 0.0728 - acc: 0.9762 - val_loss: 0.4950 - val_acc: 0.8750 - 18s/epoch - 723ms/step\n",
            "Epoch 84/150\n",
            "25/25 - 18s - loss: 0.0476 - acc: 0.9850 - val_loss: 0.4362 - val_acc: 0.8750 - 18s/epoch - 725ms/step\n",
            "Epoch 85/150\n",
            "25/25 - 18s - loss: 0.0525 - acc: 0.9825 - val_loss: 0.3901 - val_acc: 0.9000 - 18s/epoch - 719ms/step\n",
            "Epoch 86/150\n",
            "25/25 - 18s - loss: 0.0714 - acc: 0.9700 - val_loss: 0.5413 - val_acc: 0.9000 - 18s/epoch - 722ms/step\n",
            "Epoch 87/150\n",
            "25/25 - 18s - loss: 0.0569 - acc: 0.9762 - val_loss: 0.1686 - val_acc: 0.9500 - 18s/epoch - 718ms/step\n",
            "Epoch 88/150\n",
            "25/25 - 18s - loss: 0.0644 - acc: 0.9809 - val_loss: 0.7017 - val_acc: 0.8625 - 18s/epoch - 719ms/step\n",
            "Epoch 89/150\n",
            "25/25 - 18s - loss: 0.0605 - acc: 0.9762 - val_loss: 0.4354 - val_acc: 0.9187 - 18s/epoch - 718ms/step\n",
            "Epoch 90/150\n",
            "25/25 - 18s - loss: 0.0405 - acc: 0.9875 - val_loss: 0.3387 - val_acc: 0.9062 - 18s/epoch - 713ms/step\n",
            "Epoch 91/150\n",
            "25/25 - 18s - loss: 0.0717 - acc: 0.9758 - val_loss: 0.4487 - val_acc: 0.9062 - 18s/epoch - 702ms/step\n",
            "Epoch 92/150\n",
            "25/25 - 18s - loss: 0.0666 - acc: 0.9712 - val_loss: 0.5907 - val_acc: 0.8313 - 18s/epoch - 718ms/step\n",
            "Epoch 93/150\n",
            "25/25 - 18s - loss: 0.0531 - acc: 0.9737 - val_loss: 0.2172 - val_acc: 0.9312 - 18s/epoch - 720ms/step\n",
            "Epoch 94/150\n",
            "25/25 - 18s - loss: 0.0793 - acc: 0.9712 - val_loss: 0.1798 - val_acc: 0.9312 - 18s/epoch - 705ms/step\n",
            "Epoch 95/150\n",
            "25/25 - 18s - loss: 0.0695 - acc: 0.9712 - val_loss: 0.3072 - val_acc: 0.9062 - 18s/epoch - 714ms/step\n",
            "Epoch 96/150\n",
            "25/25 - 17s - loss: 0.0423 - acc: 0.9860 - val_loss: 0.3908 - val_acc: 0.9062 - 17s/epoch - 693ms/step\n",
            "Epoch 97/150\n",
            "25/25 - 18s - loss: 0.0600 - acc: 0.9825 - val_loss: 0.2388 - val_acc: 0.9250 - 18s/epoch - 702ms/step\n",
            "Epoch 98/150\n",
            "25/25 - 18s - loss: 0.0536 - acc: 0.9834 - val_loss: 0.4700 - val_acc: 0.8813 - 18s/epoch - 705ms/step\n",
            "Epoch 99/150\n",
            "25/25 - 18s - loss: 0.0449 - acc: 0.9834 - val_loss: 0.6742 - val_acc: 0.8562 - 18s/epoch - 702ms/step\n",
            "Epoch 100/150\n",
            "25/25 - 18s - loss: 0.0786 - acc: 0.9762 - val_loss: 0.4753 - val_acc: 0.9000 - 18s/epoch - 717ms/step\n",
            "Epoch 101/150\n",
            "25/25 - 18s - loss: 0.0717 - acc: 0.9750 - val_loss: 0.1939 - val_acc: 0.9500 - 18s/epoch - 717ms/step\n",
            "Epoch 102/150\n",
            "25/25 - 18s - loss: 0.0431 - acc: 0.9850 - val_loss: 0.3204 - val_acc: 0.9250 - 18s/epoch - 732ms/step\n",
            "Epoch 103/150\n",
            "25/25 - 18s - loss: 0.0382 - acc: 0.9885 - val_loss: 0.4810 - val_acc: 0.8875 - 18s/epoch - 716ms/step\n",
            "Epoch 104/150\n",
            "25/25 - 18s - loss: 0.0575 - acc: 0.9850 - val_loss: 0.3926 - val_acc: 0.8813 - 18s/epoch - 740ms/step\n",
            "Epoch 105/150\n",
            "25/25 - 18s - loss: 0.0694 - acc: 0.9775 - val_loss: 0.4786 - val_acc: 0.8938 - 18s/epoch - 734ms/step\n",
            "Epoch 106/150\n",
            "25/25 - 18s - loss: 0.0925 - acc: 0.9700 - val_loss: 0.1986 - val_acc: 0.9563 - 18s/epoch - 723ms/step\n",
            "Epoch 107/150\n",
            "25/25 - 18s - loss: 0.0787 - acc: 0.9700 - val_loss: 0.2814 - val_acc: 0.9187 - 18s/epoch - 729ms/step\n",
            "Epoch 108/150\n",
            "25/25 - 18s - loss: 0.0719 - acc: 0.9712 - val_loss: 0.4873 - val_acc: 0.9000 - 18s/epoch - 735ms/step\n",
            "Epoch 109/150\n",
            "25/25 - 18s - loss: 0.0348 - acc: 0.9875 - val_loss: 0.1501 - val_acc: 0.9500 - 18s/epoch - 731ms/step\n",
            "Epoch 110/150\n",
            "25/25 - 18s - loss: 0.0435 - acc: 0.9850 - val_loss: 0.4717 - val_acc: 0.9000 - 18s/epoch - 738ms/step\n",
            "Epoch 111/150\n",
            "25/25 - 18s - loss: 0.0236 - acc: 0.9950 - val_loss: 0.1299 - val_acc: 0.9625 - 18s/epoch - 730ms/step\n",
            "Epoch 112/150\n",
            "25/25 - 18s - loss: 0.0297 - acc: 0.9900 - val_loss: 0.2241 - val_acc: 0.9125 - 18s/epoch - 719ms/step\n",
            "Epoch 113/150\n",
            "25/25 - 18s - loss: 0.0233 - acc: 0.9898 - val_loss: 0.1742 - val_acc: 0.9438 - 18s/epoch - 718ms/step\n",
            "Epoch 114/150\n",
            "25/25 - 18s - loss: 0.0275 - acc: 0.9900 - val_loss: 0.4792 - val_acc: 0.9375 - 18s/epoch - 722ms/step\n",
            "Epoch 115/150\n",
            "25/25 - 18s - loss: 0.0353 - acc: 0.9862 - val_loss: 0.5401 - val_acc: 0.9000 - 18s/epoch - 723ms/step\n",
            "Epoch 116/150\n",
            "25/25 - 18s - loss: 0.0242 - acc: 0.9949 - val_loss: 0.2555 - val_acc: 0.9375 - 18s/epoch - 709ms/step\n",
            "Epoch 117/150\n",
            "25/25 - 18s - loss: 0.0658 - acc: 0.9750 - val_loss: 0.3826 - val_acc: 0.9375 - 18s/epoch - 712ms/step\n",
            "Epoch 118/150\n",
            "25/25 - 18s - loss: 0.0278 - acc: 0.9898 - val_loss: 0.3180 - val_acc: 0.9250 - 18s/epoch - 708ms/step\n",
            "Epoch 119/150\n",
            "25/25 - 18s - loss: 0.0280 - acc: 0.9937 - val_loss: 0.1092 - val_acc: 0.9438 - 18s/epoch - 726ms/step\n",
            "Epoch 120/150\n",
            "25/25 - 18s - loss: 0.0172 - acc: 0.9937 - val_loss: 0.2241 - val_acc: 0.9563 - 18s/epoch - 728ms/step\n",
            "Epoch 121/150\n",
            "25/25 - 18s - loss: 0.0394 - acc: 0.9837 - val_loss: 0.3555 - val_acc: 0.9438 - 18s/epoch - 736ms/step\n",
            "Epoch 122/150\n",
            "25/25 - 18s - loss: 0.0353 - acc: 0.9950 - val_loss: 0.7552 - val_acc: 0.8500 - 18s/epoch - 737ms/step\n",
            "Epoch 123/150\n",
            "25/25 - 18s - loss: 0.0487 - acc: 0.9825 - val_loss: 0.3658 - val_acc: 0.8938 - 18s/epoch - 733ms/step\n",
            "Epoch 124/150\n",
            "25/25 - 19s - loss: 0.0311 - acc: 0.9850 - val_loss: 0.1532 - val_acc: 0.9563 - 19s/epoch - 741ms/step\n",
            "Epoch 125/150\n",
            "25/25 - 18s - loss: 0.0406 - acc: 0.9875 - val_loss: 0.4148 - val_acc: 0.9187 - 18s/epoch - 738ms/step\n",
            "Epoch 126/150\n",
            "25/25 - 19s - loss: 0.0343 - acc: 0.9825 - val_loss: 0.4593 - val_acc: 0.9187 - 19s/epoch - 741ms/step\n",
            "Epoch 127/150\n",
            "25/25 - 18s - loss: 0.0424 - acc: 0.9860 - val_loss: 0.7755 - val_acc: 0.8813 - 18s/epoch - 727ms/step\n",
            "Epoch 128/150\n",
            "25/25 - 18s - loss: 0.0536 - acc: 0.9825 - val_loss: 0.7218 - val_acc: 0.8687 - 18s/epoch - 736ms/step\n",
            "Epoch 129/150\n",
            "25/25 - 18s - loss: 0.0714 - acc: 0.9783 - val_loss: 0.3212 - val_acc: 0.9125 - 18s/epoch - 723ms/step\n",
            "Epoch 130/150\n",
            "25/25 - 18s - loss: 0.0541 - acc: 0.9796 - val_loss: 0.6720 - val_acc: 0.8625 - 18s/epoch - 723ms/step\n",
            "Epoch 131/150\n",
            "25/25 - 18s - loss: 0.0694 - acc: 0.9745 - val_loss: 0.5829 - val_acc: 0.8813 - 18s/epoch - 725ms/step\n",
            "Epoch 132/150\n",
            "25/25 - 18s - loss: 0.0389 - acc: 0.9850 - val_loss: 0.5041 - val_acc: 0.8938 - 18s/epoch - 738ms/step\n",
            "Epoch 133/150\n",
            "25/25 - 18s - loss: 0.0384 - acc: 0.9825 - val_loss: 0.3565 - val_acc: 0.9125 - 18s/epoch - 734ms/step\n",
            "Epoch 134/150\n",
            "25/25 - 18s - loss: 0.0278 - acc: 0.9898 - val_loss: 0.2003 - val_acc: 0.9500 - 18s/epoch - 717ms/step\n",
            "Epoch 135/150\n",
            "25/25 - 18s - loss: 0.0369 - acc: 0.9887 - val_loss: 0.2577 - val_acc: 0.8938 - 18s/epoch - 732ms/step\n",
            "Epoch 136/150\n",
            "25/25 - 19s - loss: 0.0288 - acc: 0.9912 - val_loss: 0.6074 - val_acc: 0.8750 - 19s/epoch - 741ms/step\n",
            "Epoch 137/150\n",
            "25/25 - 18s - loss: 0.0260 - acc: 0.9872 - val_loss: 0.4678 - val_acc: 0.9438 - 18s/epoch - 717ms/step\n",
            "Epoch 138/150\n",
            "25/25 - 20s - loss: 0.0810 - acc: 0.9750 - val_loss: 0.4012 - val_acc: 0.9062 - 20s/epoch - 787ms/step\n",
            "Epoch 139/150\n",
            "25/25 - 18s - loss: 0.0486 - acc: 0.9850 - val_loss: 0.3354 - val_acc: 0.9125 - 18s/epoch - 730ms/step\n",
            "Epoch 140/150\n",
            "25/25 - 18s - loss: 0.0133 - acc: 0.9950 - val_loss: 0.2699 - val_acc: 0.9187 - 18s/epoch - 723ms/step\n",
            "Epoch 141/150\n",
            "25/25 - 17s - loss: 0.0343 - acc: 0.9872 - val_loss: 0.4424 - val_acc: 0.9000 - 17s/epoch - 699ms/step\n",
            "Epoch 142/150\n",
            "25/25 - 18s - loss: 0.0195 - acc: 0.9898 - val_loss: 0.3463 - val_acc: 0.9187 - 18s/epoch - 709ms/step\n",
            "Epoch 143/150\n",
            "25/25 - 18s - loss: 0.0151 - acc: 0.9937 - val_loss: 0.4366 - val_acc: 0.9250 - 18s/epoch - 724ms/step\n",
            "Epoch 144/150\n",
            "25/25 - 18s - loss: 0.0282 - acc: 0.9860 - val_loss: 0.3629 - val_acc: 0.9438 - 18s/epoch - 706ms/step\n",
            "Epoch 145/150\n",
            "25/25 - 18s - loss: 0.0228 - acc: 0.9912 - val_loss: 0.3085 - val_acc: 0.9438 - 18s/epoch - 722ms/step\n",
            "Epoch 146/150\n",
            "25/25 - 18s - loss: 0.0237 - acc: 0.9912 - val_loss: 0.5111 - val_acc: 0.8750 - 18s/epoch - 715ms/step\n",
            "Epoch 147/150\n",
            "25/25 - 18s - loss: 0.0259 - acc: 0.9923 - val_loss: 0.3103 - val_acc: 0.9438 - 18s/epoch - 700ms/step\n",
            "Epoch 148/150\n",
            "25/25 - 18s - loss: 0.0348 - acc: 0.9875 - val_loss: 0.5139 - val_acc: 0.9062 - 18s/epoch - 720ms/step\n",
            "Epoch 149/150\n",
            "25/25 - 18s - loss: 0.0338 - acc: 0.9887 - val_loss: 0.4420 - val_acc: 0.8813 - 18s/epoch - 720ms/step\n",
            "Epoch 150/150\n",
            "25/25 - 18s - loss: 0.0236 - acc: 0.9912 - val_loss: 0.7541 - val_acc: 0.8562 - 18s/epoch - 719ms/step\n"
          ]
        }
      ]
    },
    {
      "cell_type": "markdown",
      "metadata": {
        "id": "FEWlFuCbDFEV"
      },
      "source": [
        "<h3>Evaluasi Model</h3>"
      ]
    },
    {
      "cell_type": "code",
      "metadata": {
        "id": "fLJK8najDB8a",
        "colab": {
          "base_uri": "https://localhost:8080/",
          "height": 299
        },
        "outputId": "b079c546-425c-4f32-bfb0-214de11275db"
      },
      "source": [
        "import matplotlib.pyplot as plt\n",
        "import numpy as np\n",
        "\n",
        "plt.style.use(\"ggplot\")\n",
        "plt.figure()\n",
        "plt.plot(np.arange(0, 150), history.history[\"loss\"], label=\"train_loss\")\n",
        "plt.plot(np.arange(0, 150), history.history[\"val_loss\"], label=\"val_loss\")\n",
        "plt.title(\"Loss Plot\")\n",
        "plt.xlabel(\"Epoch #\")\n",
        "plt.ylabel(\"Loss\")\n",
        "plt.legend()\n",
        "plt.show()"
      ],
      "execution_count": null,
      "outputs": [
        {
          "output_type": "display_data",
          "data": {
            "image/png": "[encoded data removed]",
            "text/plain": [
              "<Figure size 432x288 with 1 Axes>"
            ]
          },
          "metadata": {}
        }
      ]
    },
    {
      "cell_type": "code",
      "metadata": {
        "id": "30FcTwEWDHTO",
        "colab": {
          "base_uri": "https://localhost:8080/",
          "height": 299
        },
        "outputId": "348a2134-33b9-43eb-ce1a-0f15bc311707"
      },
      "source": [
        "plt.style.use(\"ggplot\")\n",
        "plt.figure()\n",
        "plt.plot(np.arange(0, 150), history.history[\"acc\"], label=\"train_acc\")\n",
        "plt.plot(np.arange(0, 150), history.history[\"val_acc\"], label=\"val_acc\")\n",
        "plt.title(\"Accuracy Plot\")\n",
        "plt.xlabel(\"Epoch #\")\n",
        "plt.ylabel(\"Acc\")\n",
        "plt.legend()\n",
        "plt.show()"
      ],
      "execution_count": null,
      "outputs": [
        {
          "output_type": "display_data",
          "data": {
            "image/png": "[encoded data removed]",
            "text/plain": [
              "<Figure size 432x288 with 1 Axes>"
            ]
          },
          "metadata": {}
        }
      ]
    },
    {
      "cell_type": "code",
      "metadata": {
        "id": "N848L5hGDJ1K"
      },
      "source": [
        "# from sklearn.metrics import classification_report\n",
        "\n",
        "# pred = model.predict(validation_generator)\n",
        "# labels = (pred > 0.5).astype(np.int)\n",
        "\n",
        "# print(classification_report(validation_generator.classes, labels))"
      ],
      "execution_count": null,
      "outputs": []
    },
    {
      "cell_type": "code",
      "metadata": {
        "id": "Oh8tkRvbjT2E"
      },
      "source": [
        "from sklearn.metrics import classification_report, confusion_matrix"
      ],
      "execution_count": null,
      "outputs": []
    },
    {
      "cell_type": "code",
      "metadata": {
        "id": "QtFSQfcyixky"
      },
      "source": [
        "def evaluate(model):\n",
        "\n",
        "  validation_generator = validation_datagen.flow_from_directory(\n",
        "          base_dir, \n",
        "          target_size=(150,150), \n",
        "          batch_size=32, \n",
        "          class_mode='categorical',\n",
        "          shuffle = False,\n",
        "          subset='validation')\n",
        "\n",
        "  batch_size = 32\n",
        "  num_of_test_samples = len(validation_generator.filenames)\n",
        "\n",
        "  Y_pred = model.predict_generator(validation_generator, num_of_test_samples // batch_size+1)\n",
        "  y_pred = np.argmax(Y_pred, axis=1)\n",
        "\n",
        "  print('\\nConfusion Matrix\\n')\n",
        "  print(confusion_matrix(validation_generator.classes, y_pred))\n",
        "\n",
        "\n",
        "  print('\\n\\nClassification Report\\n')\n",
        "  target_names = ['1', '2', '3']\n",
        "  print(classification_report(validation_generator.classes, y_pred, target_names=target_names))"
      ],
      "execution_count": null,
      "outputs": []
    },
    {
      "cell_type": "code",
      "metadata": {
        "id": "upqfLzKci7Gs",
        "colab": {
          "base_uri": "https://localhost:8080/"
        },
        "outputId": "47c00607-3737-4575-92a2-4af0724abdec"
      },
      "source": [
        "evaluate(model)"
      ],
      "execution_count": null,
      "outputs": [
        {
          "output_type": "stream",
          "name": "stdout",
          "text": [
            "Found 305 images belonging to 3 classes.\n"
          ]
        },
        {
          "output_type": "stream",
          "name": "stderr",
          "text": [
            "/usr/local/lib/python3.7/dist-packages/ipykernel_launcher.py:14: UserWarning: `Model.predict_generator` is deprecated and will be removed in a future version. Please use `Model.predict`, which supports generators.\n",
            "  \n"
          ]
        },
        {
          "output_type": "stream",
          "name": "stdout",
          "text": [
            "\n",
            "Confusion Matrix\n",
            "\n",
            "[[ 60   5   5]\n",
            " [ 17 124   1]\n",
            " [  2   2  89]]\n",
            "\n",
            "\n",
            "Classification Report\n",
            "\n",
            "              precision    recall  f1-score   support\n",
            "\n",
            "           1       0.76      0.86      0.81        70\n",
            "           2       0.95      0.87      0.91       142\n",
            "           3       0.94      0.96      0.95        93\n",
            "\n",
            "    accuracy                           0.90       305\n",
            "   macro avg       0.88      0.90      0.89       305\n",
            "weighted avg       0.90      0.90      0.90       305\n",
            "\n"
          ]
        }
      ]
    }
  ]
}
