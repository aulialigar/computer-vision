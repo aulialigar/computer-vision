{
  "nbformat": 4,
  "nbformat_minor": 0,
  "metadata": {
    "colab": {
      "name": "neural_network2.ipynb",
      "provenance": [],
      "collapsed_sections": [],
      "include_colab_link": true
    },
    "kernelspec": {
      "name": "python3",
      "display_name": "Python 3"
    },
    "language_info": {
      "name": "python"
    },
    "accelerator": "GPU"
  },
  "cells": [
    {
      "cell_type": "markdown",
      "metadata": {
        "id": "view-in-github",
        "colab_type": "text"
      },
      "source": [
        "<a href=\"https://colab.research.google.com/github/aulialigar/computer-vision/blob/main/neural_network/neural_network2.ipynb\" target=\"_parent\"><img src=\"https://colab.research.google.com/assets/colab-badge.svg\" alt=\"Open In Colab\"/></a>"
      ]
    },
    {
      "cell_type": "code",
      "metadata": {
        "colab": {
          "base_uri": "https://localhost:8080/"
        },
        "id": "HbEtzsONCbXH",
        "outputId": "70edf908-ab8e-48cd-e29c-b8b3f31c8521"
      },
      "source": [
        "import os\n",
        "from google.colab import drive\n",
        "drive.mount('/content/drive/')\n",
        "\n",
        "os.chdir('/content/drive/My Drive/TKC')\n",
        "!ls -a"
      ],
      "execution_count": 1,
      "outputs": [
        {
          "output_type": "stream",
          "name": "stdout",
          "text": [
            "Mounted at /content/drive/\n",
            "1  2  3\n"
          ]
        }
      ]
    },
    {
      "cell_type": "code",
      "metadata": {
        "id": "lEbqHHtWCcZi"
      },
      "source": [
        "base_dir = '/content/drive/My Drive/TKC'"
      ],
      "execution_count": 2,
      "outputs": []
    },
    {
      "cell_type": "code",
      "metadata": {
        "id": "qTUcSDf2CeBY"
      },
      "source": [
        "from tensorflow.keras.preprocessing.image import ImageDataGenerator\n",
        " \n",
        "train_datagen = ImageDataGenerator(\n",
        "                    rescale=1./255,\n",
        "                    rotation_range=20,\n",
        "                    horizontal_flip=True,\n",
        "                    shear_range = 0.2,\n",
        "                    fill_mode = 'wrap',\n",
        "                    validation_split=0.1)\n",
        " \n",
        "validation_datagen = ImageDataGenerator(\n",
        "                    rescale=1./255,\n",
        "                    rotation_range=20,\n",
        "                    horizontal_flip=True,\n",
        "                    shear_range = 0.2,\n",
        "                    fill_mode = 'wrap',\n",
        "                    validation_split=0.1)"
      ],
      "execution_count": 3,
      "outputs": []
    },
    {
      "cell_type": "code",
      "metadata": {
        "colab": {
          "base_uri": "https://localhost:8080/"
        },
        "id": "4KUVPIfRCfw0",
        "outputId": "addd171c-2ee9-4816-b5c0-71f210d91243"
      },
      "source": [
        "# persiapan data training\n",
        "train_generator = train_datagen.flow_from_directory(\n",
        "        base_dir,  \n",
        "        # mengubah resolusi seluruh gambar menjadi 150x150 piksel\n",
        "        target_size=(150, 150),  \n",
        "        shuffle = True,\n",
        "        subset='training',\n",
        "        class_mode='categorical')\n",
        "\n",
        "# persiapan data validasi\n",
        "validation_generator = validation_datagen.flow_from_directory(\n",
        "        base_dir, \n",
        "        # mengubah resolusi seluruh gambar menjadi 150x150 piksel\n",
        "        target_size=(150, 150),  \n",
        "        subset='validation',\n",
        "        class_mode='categorical')"
      ],
      "execution_count": 4,
      "outputs": [
        {
          "output_type": "stream",
          "name": "stdout",
          "text": [
            "Found 2768 images belonging to 3 classes.\n",
            "Found 305 images belonging to 3 classes.\n"
          ]
        }
      ]
    },
    {
      "cell_type": "code",
      "metadata": {
        "id": "flACJKZxWO4b"
      },
      "source": [
        "from tensorflow.keras.preprocessing.image import ImageDataGenerator\n",
        " \n",
        "train_datagen = ImageDataGenerator(\n",
        "                    rescale=1./255,\n",
        "                    rotation_range=20,\n",
        "                    horizontal_flip=True,\n",
        "                    shear_range = 0.2,\n",
        "                    fill_mode = 'wrap',\n",
        "                    validation_split=0.1)\n",
        " \n",
        "validation_datagen = ImageDataGenerator(\n",
        "                    rescale=1./255,\n",
        "                    rotation_range=20,\n",
        "                    horizontal_flip=True,\n",
        "                    shear_range = 0.2,\n",
        "                    fill_mode = 'wrap',\n",
        "                    validation_split=0.1)"
      ],
      "execution_count": 5,
      "outputs": []
    },
    {
      "cell_type": "code",
      "metadata": {
        "id": "IvaNCN1ICqPK",
        "colab": {
          "base_uri": "https://localhost:8080/"
        },
        "outputId": "661d4718-7b15-47bd-e020-df2a9e155be1"
      },
      "source": [
        "# persiapan data training\n",
        "train_generator = train_datagen.flow_from_directory(\n",
        "        base_dir,  \n",
        "        # mengubah resolusi seluruh gambar menjadi 150x150 piksel\n",
        "        target_size=(150, 150),  \n",
        "        shuffle = True,\n",
        "        subset='training',\n",
        "        class_mode='categorical')\n",
        "\n",
        "# persiapan data validasi\n",
        "validation_generator = validation_datagen.flow_from_directory(\n",
        "        base_dir, \n",
        "        # mengubah resolusi seluruh gambar menjadi 150x150 piksel\n",
        "        target_size=(150, 150),  \n",
        "        subset='validation',\n",
        "        class_mode='categorical')"
      ],
      "execution_count": 6,
      "outputs": [
        {
          "output_type": "stream",
          "name": "stdout",
          "text": [
            "Found 2768 images belonging to 3 classes.\n",
            "Found 305 images belonging to 3 classes.\n"
          ]
        }
      ]
    },
    {
      "cell_type": "markdown",
      "metadata": {
        "id": "ZRI9ZP2UCvGD"
      },
      "source": [
        "<h3>Modeling</h3>"
      ]
    },
    {
      "cell_type": "code",
      "metadata": {
        "id": "xytwR-S4Crro"
      },
      "source": [
        "import tensorflow as tf"
      ],
      "execution_count": 7,
      "outputs": []
    },
    {
      "cell_type": "code",
      "metadata": {
        "id": "kCEZIMVnCsFK"
      },
      "source": [
        "model = tf.keras.models.Sequential([\n",
        "    tf.keras.layers.Conv2D(32, (3,3), activation='relu', input_shape=(150, 150, 3)),\n",
        "    tf.keras.layers.MaxPooling2D(2, 2),\n",
        "    tf.keras.layers.Conv2D(64, (3,3), activation='relu'),\n",
        "    tf.keras.layers.MaxPooling2D(2,2),\n",
        "    tf.keras.layers.Dropout(0.2),\n",
        "    tf.keras.layers.Conv2D(128, (3,3), activation='relu'),\n",
        "    tf.keras.layers.MaxPooling2D(2,2),\n",
        "    tf.keras.layers.Dropout(0.1),\n",
        "    tf.keras.layers.Conv2D(128, (3,3), activation='relu'),\n",
        "    tf.keras.layers.MaxPooling2D(2,2),\n",
        "    tf.keras.layers.Flatten(),\n",
        "    tf.keras.layers.Dense(512, activation='relu'),\n",
        "    tf.keras.layers.Dense(3, activation='sigmoid')\n",
        "])"
      ],
      "execution_count": 8,
      "outputs": []
    },
    {
      "cell_type": "code",
      "metadata": {
        "colab": {
          "base_uri": "https://localhost:8080/"
        },
        "id": "xxbZge_GCxtE",
        "outputId": "4de77875-bbb6-46b8-bb62-e7202c01450c"
      },
      "source": [
        "# Tampilkan model summary\n",
        "model.summary()"
      ],
      "execution_count": 9,
      "outputs": [
        {
          "output_type": "stream",
          "name": "stdout",
          "text": [
            "Model: \"sequential\"\n",
            "_________________________________________________________________\n",
            " Layer (type)                Output Shape              Param #   \n",
            "=================================================================\n",
            " conv2d (Conv2D)             (None, 148, 148, 32)      896       \n",
            "                                                                 \n",
            " max_pooling2d (MaxPooling2D  (None, 74, 74, 32)       0         \n",
            " )                                                               \n",
            "                                                                 \n",
            " conv2d_1 (Conv2D)           (None, 72, 72, 64)        18496     \n",
            "                                                                 \n",
            " max_pooling2d_1 (MaxPooling  (None, 36, 36, 64)       0         \n",
            " 2D)                                                             \n",
            "                                                                 \n",
            " dropout (Dropout)           (None, 36, 36, 64)        0         \n",
            "                                                                 \n",
            " conv2d_2 (Conv2D)           (None, 34, 34, 128)       73856     \n",
            "                                                                 \n",
            " max_pooling2d_2 (MaxPooling  (None, 17, 17, 128)      0         \n",
            " 2D)                                                             \n",
            "                                                                 \n",
            " dropout_1 (Dropout)         (None, 17, 17, 128)       0         \n",
            "                                                                 \n",
            " conv2d_3 (Conv2D)           (None, 15, 15, 128)       147584    \n",
            "                                                                 \n",
            " max_pooling2d_3 (MaxPooling  (None, 7, 7, 128)        0         \n",
            " 2D)                                                             \n",
            "                                                                 \n",
            " flatten (Flatten)           (None, 6272)              0         \n",
            "                                                                 \n",
            " dense (Dense)               (None, 512)               3211776   \n",
            "                                                                 \n",
            " dense_1 (Dense)             (None, 3)                 1539      \n",
            "                                                                 \n",
            "=================================================================\n",
            "Total params: 3,454,147\n",
            "Trainable params: 3,454,147\n",
            "Non-trainable params: 0\n",
            "_________________________________________________________________\n"
          ]
        }
      ]
    },
    {
      "cell_type": "code",
      "metadata": {
        "id": "TVP7wbecC1AO"
      },
      "source": [
        "from tensorflow.keras.optimizers import Adam\n",
        "\n",
        "# Compile model\n",
        "model.compile(loss='categorical_crossentropy',\n",
        "              optimizer='adam',\n",
        "              metrics=['acc'])"
      ],
      "execution_count": 10,
      "outputs": []
    },
    {
      "cell_type": "code",
      "metadata": {
        "colab": {
          "base_uri": "https://localhost:8080/"
        },
        "id": "SBoD91HdWtC8",
        "outputId": "3af4eb68-fe3b-4d4e-f08e-f85f7a5d4edb"
      },
      "source": [
        "# latih model dengan model.fit \n",
        "history = model.fit(\n",
        "      train_generator,\n",
        "      steps_per_epoch=25,  # berapa batch yang akan dieksekusi pada setiap epoch\n",
        "      epochs=100, # tambahkan eposchs jika akurasi model belum optimal\n",
        "      validation_data=validation_generator, # menampilkan akurasi pengujian data validasi\n",
        "      validation_steps=5,  # berapa batch yang akan dieksekusi pada setiap epoch\n",
        "      verbose=2)"
      ],
      "execution_count": 11,
      "outputs": [
        {
          "output_type": "stream",
          "name": "stdout",
          "text": [
            "Epoch 1/100\n",
            "25/25 - 160s - loss: 1.1285 - acc: 0.4338 - val_loss: 1.0644 - val_acc: 0.4688 - 160s/epoch - 6s/step\n",
            "Epoch 2/100\n",
            "25/25 - 96s - loss: 0.9687 - acc: 0.5337 - val_loss: 0.6560 - val_acc: 0.6812 - 96s/epoch - 4s/step\n",
            "Epoch 3/100\n",
            "25/25 - 72s - loss: 0.8084 - acc: 0.6212 - val_loss: 0.5088 - val_acc: 0.7875 - 72s/epoch - 3s/step\n",
            "Epoch 4/100\n",
            "25/25 - 52s - loss: 0.7061 - acc: 0.6735 - val_loss: 0.4822 - val_acc: 0.8250 - 52s/epoch - 2s/step\n",
            "Epoch 5/100\n",
            "25/25 - 44s - loss: 0.6137 - acc: 0.7312 - val_loss: 0.5512 - val_acc: 0.8313 - 44s/epoch - 2s/step\n",
            "Epoch 6/100\n",
            "25/25 - 34s - loss: 0.5550 - acc: 0.7563 - val_loss: 0.6376 - val_acc: 0.6500 - 34s/epoch - 1s/step\n",
            "Epoch 7/100\n",
            "25/25 - 34s - loss: 0.5614 - acc: 0.7500 - val_loss: 0.5149 - val_acc: 0.8000 - 34s/epoch - 1s/step\n",
            "Epoch 8/100\n",
            "25/25 - 28s - loss: 0.4783 - acc: 0.7825 - val_loss: 0.6447 - val_acc: 0.6812 - 28s/epoch - 1s/step\n",
            "Epoch 9/100\n",
            "25/25 - 27s - loss: 0.4829 - acc: 0.7900 - val_loss: 0.5072 - val_acc: 0.7563 - 27s/epoch - 1s/step\n",
            "Epoch 10/100\n",
            "25/25 - 24s - loss: 0.4797 - acc: 0.8062 - val_loss: 0.6275 - val_acc: 0.7063 - 24s/epoch - 944ms/step\n",
            "Epoch 11/100\n",
            "25/25 - 23s - loss: 0.4692 - acc: 0.7925 - val_loss: 0.3987 - val_acc: 0.8562 - 23s/epoch - 924ms/step\n",
            "Epoch 12/100\n",
            "25/25 - 23s - loss: 0.4003 - acc: 0.8200 - val_loss: 0.5253 - val_acc: 0.7625 - 23s/epoch - 903ms/step\n",
            "Epoch 13/100\n",
            "25/25 - 21s - loss: 0.3859 - acc: 0.8300 - val_loss: 0.4966 - val_acc: 0.7875 - 21s/epoch - 836ms/step\n",
            "Epoch 14/100\n",
            "25/25 - 20s - loss: 0.4509 - acc: 0.8138 - val_loss: 0.6106 - val_acc: 0.7812 - 20s/epoch - 804ms/step\n",
            "Epoch 15/100\n",
            "25/25 - 20s - loss: 0.4263 - acc: 0.8175 - val_loss: 0.5759 - val_acc: 0.7750 - 20s/epoch - 802ms/step\n",
            "Epoch 16/100\n",
            "25/25 - 20s - loss: 0.3977 - acc: 0.8304 - val_loss: 0.6105 - val_acc: 0.7500 - 20s/epoch - 786ms/step\n",
            "Epoch 17/100\n",
            "25/25 - 21s - loss: 0.3483 - acc: 0.8537 - val_loss: 0.4362 - val_acc: 0.8250 - 21s/epoch - 825ms/step\n",
            "Epoch 18/100\n",
            "25/25 - 20s - loss: 0.3418 - acc: 0.8612 - val_loss: 0.4529 - val_acc: 0.8313 - 20s/epoch - 797ms/step\n",
            "Epoch 19/100\n",
            "25/25 - 20s - loss: 0.3012 - acc: 0.8775 - val_loss: 0.3912 - val_acc: 0.8562 - 20s/epoch - 790ms/step\n",
            "Epoch 20/100\n",
            "25/25 - 20s - loss: 0.3395 - acc: 0.8612 - val_loss: 0.3866 - val_acc: 0.8562 - 20s/epoch - 784ms/step\n",
            "Epoch 21/100\n",
            "25/25 - 20s - loss: 0.2878 - acc: 0.8800 - val_loss: 0.4901 - val_acc: 0.8188 - 20s/epoch - 789ms/step\n",
            "Epoch 22/100\n",
            "25/25 - 21s - loss: 0.3121 - acc: 0.8725 - val_loss: 0.3977 - val_acc: 0.8438 - 21s/epoch - 829ms/step\n",
            "Epoch 23/100\n",
            "25/25 - 20s - loss: 0.2882 - acc: 0.8763 - val_loss: 0.4792 - val_acc: 0.7937 - 20s/epoch - 809ms/step\n",
            "Epoch 24/100\n",
            "25/25 - 20s - loss: 0.2856 - acc: 0.8788 - val_loss: 0.4747 - val_acc: 0.8125 - 20s/epoch - 806ms/step\n",
            "Epoch 25/100\n",
            "25/25 - 21s - loss: 0.3145 - acc: 0.8587 - val_loss: 0.7060 - val_acc: 0.7812 - 21s/epoch - 824ms/step\n",
            "Epoch 26/100\n",
            "25/25 - 21s - loss: 0.2727 - acc: 0.8913 - val_loss: 0.3943 - val_acc: 0.8500 - 21s/epoch - 827ms/step\n",
            "Epoch 27/100\n",
            "25/25 - 19s - loss: 0.2657 - acc: 0.8900 - val_loss: 0.2595 - val_acc: 0.9000 - 19s/epoch - 773ms/step\n",
            "Epoch 28/100\n",
            "25/25 - 20s - loss: 0.2107 - acc: 0.9212 - val_loss: 0.4043 - val_acc: 0.8625 - 20s/epoch - 788ms/step\n",
            "Epoch 29/100\n",
            "25/25 - 20s - loss: 0.2401 - acc: 0.9000 - val_loss: 0.3436 - val_acc: 0.8875 - 20s/epoch - 781ms/step\n",
            "Epoch 30/100\n",
            "25/25 - 19s - loss: 0.2067 - acc: 0.9162 - val_loss: 0.3074 - val_acc: 0.8687 - 19s/epoch - 773ms/step\n",
            "Epoch 31/100\n",
            "25/25 - 19s - loss: 0.2249 - acc: 0.9112 - val_loss: 0.3986 - val_acc: 0.8438 - 19s/epoch - 780ms/step\n",
            "Epoch 32/100\n",
            "25/25 - 19s - loss: 0.2163 - acc: 0.9069 - val_loss: 0.2155 - val_acc: 0.9312 - 19s/epoch - 767ms/step\n",
            "Epoch 33/100\n",
            "25/25 - 19s - loss: 0.1786 - acc: 0.9225 - val_loss: 0.3396 - val_acc: 0.8687 - 19s/epoch - 774ms/step\n",
            "Epoch 34/100\n",
            "25/25 - 19s - loss: 0.2442 - acc: 0.8913 - val_loss: 0.4512 - val_acc: 0.8625 - 19s/epoch - 779ms/step\n",
            "Epoch 35/100\n",
            "25/25 - 19s - loss: 0.1959 - acc: 0.9287 - val_loss: 0.2833 - val_acc: 0.8813 - 19s/epoch - 775ms/step\n",
            "Epoch 36/100\n",
            "25/25 - 20s - loss: 0.2072 - acc: 0.9375 - val_loss: 0.5106 - val_acc: 0.8438 - 20s/epoch - 796ms/step\n",
            "Epoch 37/100\n",
            "25/25 - 19s - loss: 0.1885 - acc: 0.9260 - val_loss: 0.5409 - val_acc: 0.8125 - 19s/epoch - 775ms/step\n",
            "Epoch 38/100\n",
            "25/25 - 19s - loss: 0.2039 - acc: 0.9133 - val_loss: 0.3368 - val_acc: 0.8813 - 19s/epoch - 778ms/step\n",
            "Epoch 39/100\n",
            "25/25 - 20s - loss: 0.2015 - acc: 0.9287 - val_loss: 0.3995 - val_acc: 0.8500 - 20s/epoch - 787ms/step\n",
            "Epoch 40/100\n",
            "25/25 - 20s - loss: 0.1434 - acc: 0.9463 - val_loss: 0.2987 - val_acc: 0.8938 - 20s/epoch - 795ms/step\n",
            "Epoch 41/100\n",
            "25/25 - 20s - loss: 0.1716 - acc: 0.9337 - val_loss: 0.3205 - val_acc: 0.8938 - 20s/epoch - 801ms/step\n",
            "Epoch 42/100\n",
            "25/25 - 20s - loss: 0.1984 - acc: 0.9225 - val_loss: 0.4781 - val_acc: 0.8687 - 20s/epoch - 782ms/step\n",
            "Epoch 43/100\n",
            "25/25 - 19s - loss: 0.1805 - acc: 0.9375 - val_loss: 0.2890 - val_acc: 0.9125 - 19s/epoch - 776ms/step\n",
            "Epoch 44/100\n",
            "25/25 - 19s - loss: 0.1954 - acc: 0.9187 - val_loss: 0.3239 - val_acc: 0.8813 - 19s/epoch - 778ms/step\n",
            "Epoch 45/100\n",
            "25/25 - 20s - loss: 0.1540 - acc: 0.9362 - val_loss: 0.3576 - val_acc: 0.8813 - 20s/epoch - 787ms/step\n",
            "Epoch 46/100\n",
            "25/25 - 20s - loss: 0.1624 - acc: 0.9450 - val_loss: 0.2550 - val_acc: 0.9125 - 20s/epoch - 798ms/step\n",
            "Epoch 47/100\n",
            "25/25 - 20s - loss: 0.1336 - acc: 0.9425 - val_loss: 0.2149 - val_acc: 0.9312 - 20s/epoch - 789ms/step\n",
            "Epoch 48/100\n",
            "25/25 - 19s - loss: 0.1551 - acc: 0.9273 - val_loss: 0.3905 - val_acc: 0.8687 - 19s/epoch - 768ms/step\n",
            "Epoch 49/100\n",
            "25/25 - 20s - loss: 0.1645 - acc: 0.9312 - val_loss: 0.5837 - val_acc: 0.8625 - 20s/epoch - 787ms/step\n",
            "Epoch 50/100\n",
            "25/25 - 19s - loss: 0.1699 - acc: 0.9324 - val_loss: 0.2147 - val_acc: 0.9375 - 19s/epoch - 779ms/step\n",
            "Epoch 51/100\n",
            "25/25 - 19s - loss: 0.1607 - acc: 0.9324 - val_loss: 0.3332 - val_acc: 0.8938 - 19s/epoch - 779ms/step\n",
            "Epoch 52/100\n",
            "25/25 - 19s - loss: 0.1317 - acc: 0.9450 - val_loss: 0.3291 - val_acc: 0.9062 - 19s/epoch - 779ms/step\n",
            "Epoch 53/100\n",
            "25/25 - 19s - loss: 0.1470 - acc: 0.9450 - val_loss: 0.2741 - val_acc: 0.9125 - 19s/epoch - 775ms/step\n",
            "Epoch 54/100\n",
            "25/25 - 20s - loss: 0.1431 - acc: 0.9488 - val_loss: 0.3539 - val_acc: 0.8750 - 20s/epoch - 794ms/step\n",
            "Epoch 55/100\n",
            "25/25 - 20s - loss: 0.1180 - acc: 0.9575 - val_loss: 0.4107 - val_acc: 0.9000 - 20s/epoch - 798ms/step\n",
            "Epoch 56/100\n",
            "25/25 - 20s - loss: 0.1320 - acc: 0.9515 - val_loss: 0.3802 - val_acc: 0.8687 - 20s/epoch - 782ms/step\n",
            "Epoch 57/100\n",
            "25/25 - 20s - loss: 0.1088 - acc: 0.9638 - val_loss: 0.4143 - val_acc: 0.9000 - 20s/epoch - 811ms/step\n",
            "Epoch 58/100\n",
            "25/25 - 20s - loss: 0.1323 - acc: 0.9477 - val_loss: 0.1973 - val_acc: 0.9500 - 20s/epoch - 799ms/step\n",
            "Epoch 59/100\n",
            "25/25 - 20s - loss: 0.1117 - acc: 0.9566 - val_loss: 0.2589 - val_acc: 0.9312 - 20s/epoch - 799ms/step\n",
            "Epoch 60/100\n",
            "25/25 - 20s - loss: 0.0977 - acc: 0.9600 - val_loss: 0.2594 - val_acc: 0.8875 - 20s/epoch - 807ms/step\n",
            "Epoch 61/100\n",
            "25/25 - 20s - loss: 0.1390 - acc: 0.9613 - val_loss: 0.2601 - val_acc: 0.9125 - 20s/epoch - 793ms/step\n",
            "Epoch 62/100\n",
            "25/25 - 20s - loss: 0.1272 - acc: 0.9538 - val_loss: 0.2053 - val_acc: 0.9312 - 20s/epoch - 789ms/step\n",
            "Epoch 63/100\n",
            "25/25 - 19s - loss: 0.1381 - acc: 0.9554 - val_loss: 0.3716 - val_acc: 0.8750 - 19s/epoch - 774ms/step\n",
            "Epoch 64/100\n",
            "25/25 - 20s - loss: 0.1083 - acc: 0.9575 - val_loss: 0.4537 - val_acc: 0.8813 - 20s/epoch - 784ms/step\n",
            "Epoch 65/100\n",
            "25/25 - 20s - loss: 0.1007 - acc: 0.9675 - val_loss: 0.2668 - val_acc: 0.9000 - 20s/epoch - 784ms/step\n",
            "Epoch 66/100\n",
            "25/25 - 19s - loss: 0.0893 - acc: 0.9617 - val_loss: 0.3577 - val_acc: 0.8750 - 19s/epoch - 775ms/step\n",
            "Epoch 67/100\n",
            "25/25 - 20s - loss: 0.0881 - acc: 0.9668 - val_loss: 0.4052 - val_acc: 0.8875 - 20s/epoch - 780ms/step\n",
            "Epoch 68/100\n",
            "25/25 - 20s - loss: 0.0944 - acc: 0.9688 - val_loss: 0.3363 - val_acc: 0.9000 - 20s/epoch - 791ms/step\n",
            "Epoch 69/100\n",
            "25/25 - 19s - loss: 0.0907 - acc: 0.9656 - val_loss: 0.3154 - val_acc: 0.9000 - 19s/epoch - 777ms/step\n",
            "Epoch 70/100\n",
            "25/25 - 20s - loss: 0.1205 - acc: 0.9563 - val_loss: 0.6586 - val_acc: 0.8000 - 20s/epoch - 788ms/step\n",
            "Epoch 71/100\n",
            "25/25 - 19s - loss: 0.1068 - acc: 0.9630 - val_loss: 0.3463 - val_acc: 0.9000 - 19s/epoch - 777ms/step\n",
            "Epoch 72/100\n",
            "25/25 - 19s - loss: 0.0712 - acc: 0.9681 - val_loss: 0.5054 - val_acc: 0.8375 - 19s/epoch - 769ms/step\n",
            "Epoch 73/100\n",
            "25/25 - 19s - loss: 0.0885 - acc: 0.9688 - val_loss: 0.5645 - val_acc: 0.8562 - 19s/epoch - 779ms/step\n",
            "Epoch 74/100\n",
            "25/25 - 19s - loss: 0.0798 - acc: 0.9707 - val_loss: 0.6846 - val_acc: 0.8438 - 19s/epoch - 763ms/step\n",
            "Epoch 75/100\n",
            "25/25 - 19s - loss: 0.0744 - acc: 0.9732 - val_loss: 0.3764 - val_acc: 0.8938 - 19s/epoch - 776ms/step\n",
            "Epoch 76/100\n",
            "25/25 - 19s - loss: 0.0603 - acc: 0.9834 - val_loss: 0.4308 - val_acc: 0.9312 - 19s/epoch - 778ms/step\n",
            "Epoch 77/100\n",
            "25/25 - 20s - loss: 0.0884 - acc: 0.9600 - val_loss: 0.4865 - val_acc: 0.9125 - 20s/epoch - 797ms/step\n",
            "Epoch 78/100\n",
            "25/25 - 20s - loss: 0.0879 - acc: 0.9750 - val_loss: 0.5370 - val_acc: 0.8313 - 20s/epoch - 789ms/step\n",
            "Epoch 79/100\n",
            "25/25 - 20s - loss: 0.0960 - acc: 0.9650 - val_loss: 0.4021 - val_acc: 0.8938 - 20s/epoch - 799ms/step\n",
            "Epoch 80/100\n",
            "25/25 - 20s - loss: 0.0813 - acc: 0.9762 - val_loss: 0.4674 - val_acc: 0.8500 - 20s/epoch - 788ms/step\n",
            "Epoch 81/100\n",
            "25/25 - 19s - loss: 0.1308 - acc: 0.9503 - val_loss: 0.3270 - val_acc: 0.8875 - 19s/epoch - 766ms/step\n",
            "Epoch 82/100\n",
            "25/25 - 20s - loss: 0.0943 - acc: 0.9675 - val_loss: 0.2868 - val_acc: 0.9187 - 20s/epoch - 802ms/step\n",
            "Epoch 83/100\n",
            "25/25 - 20s - loss: 0.0953 - acc: 0.9650 - val_loss: 0.4383 - val_acc: 0.8687 - 20s/epoch - 807ms/step\n",
            "Epoch 84/100\n",
            "25/25 - 21s - loss: 0.0955 - acc: 0.9613 - val_loss: 0.4727 - val_acc: 0.8875 - 21s/epoch - 839ms/step\n",
            "Epoch 85/100\n",
            "25/25 - 21s - loss: 0.0687 - acc: 0.9712 - val_loss: 0.3214 - val_acc: 0.9000 - 21s/epoch - 835ms/step\n",
            "Epoch 86/100\n",
            "25/25 - 20s - loss: 0.0916 - acc: 0.9700 - val_loss: 0.2482 - val_acc: 0.9062 - 20s/epoch - 812ms/step\n",
            "Epoch 87/100\n",
            "25/25 - 20s - loss: 0.0740 - acc: 0.9725 - val_loss: 0.3491 - val_acc: 0.8875 - 20s/epoch - 802ms/step\n",
            "Epoch 88/100\n",
            "25/25 - 20s - loss: 0.0417 - acc: 0.9837 - val_loss: 0.3215 - val_acc: 0.9187 - 20s/epoch - 791ms/step\n",
            "Epoch 89/100\n",
            "25/25 - 20s - loss: 0.0505 - acc: 0.9787 - val_loss: 0.4223 - val_acc: 0.8938 - 20s/epoch - 786ms/step\n",
            "Epoch 90/100\n",
            "25/25 - 20s - loss: 0.0430 - acc: 0.9837 - val_loss: 0.1690 - val_acc: 0.9438 - 20s/epoch - 811ms/step\n",
            "Epoch 91/100\n",
            "25/25 - 20s - loss: 0.1009 - acc: 0.9650 - val_loss: 0.4220 - val_acc: 0.8938 - 20s/epoch - 794ms/step\n",
            "Epoch 92/100\n",
            "25/25 - 19s - loss: 0.0987 - acc: 0.9643 - val_loss: 0.2189 - val_acc: 0.9438 - 19s/epoch - 778ms/step\n",
            "Epoch 93/100\n",
            "25/25 - 20s - loss: 0.0719 - acc: 0.9758 - val_loss: 0.3615 - val_acc: 0.9000 - 20s/epoch - 794ms/step\n",
            "Epoch 94/100\n",
            "25/25 - 20s - loss: 0.0585 - acc: 0.9783 - val_loss: 0.2602 - val_acc: 0.9312 - 20s/epoch - 794ms/step\n",
            "Epoch 95/100\n",
            "25/25 - 20s - loss: 0.0448 - acc: 0.9862 - val_loss: 0.3062 - val_acc: 0.9250 - 20s/epoch - 795ms/step\n",
            "Epoch 96/100\n",
            "25/25 - 20s - loss: 0.0359 - acc: 0.9875 - val_loss: 0.4052 - val_acc: 0.8875 - 20s/epoch - 803ms/step\n",
            "Epoch 97/100\n",
            "25/25 - 20s - loss: 0.0321 - acc: 0.9900 - val_loss: 0.5983 - val_acc: 0.9000 - 20s/epoch - 799ms/step\n",
            "Epoch 98/100\n",
            "25/25 - 20s - loss: 0.0954 - acc: 0.9650 - val_loss: 0.2652 - val_acc: 0.9187 - 20s/epoch - 800ms/step\n",
            "Epoch 99/100\n",
            "25/25 - 20s - loss: 0.0665 - acc: 0.9719 - val_loss: 0.2167 - val_acc: 0.9125 - 20s/epoch - 801ms/step\n",
            "Epoch 100/100\n",
            "25/25 - 20s - loss: 0.0665 - acc: 0.9783 - val_loss: 0.4361 - val_acc: 0.8875 - 20s/epoch - 788ms/step\n"
          ]
        }
      ]
    },
    {
      "cell_type": "code",
      "metadata": {
        "id": "HF94B_OseIVK",
        "colab": {
          "base_uri": "https://localhost:8080/",
          "height": 299
        },
        "outputId": "9ba0478f-bcd4-427d-ca26-e9c0b3f65550"
      },
      "source": [
        "import matplotlib.pyplot as plt\n",
        "import numpy as np\n",
        "\n",
        "plt.style.use(\"ggplot\")\n",
        "plt.figure()\n",
        "plt.plot(np.arange(0, 100), history.history[\"loss\"], label=\"train_loss\")\n",
        "plt.plot(np.arange(0, 100), history.history[\"val_loss\"], label=\"val_loss\")\n",
        "plt.title(\"Loss Plot\")\n",
        "plt.xlabel(\"Epoch #\")\n",
        "plt.ylabel(\"Loss\")\n",
        "plt.legend()\n",
        "plt.show()"
      ],
      "execution_count": 12,
      "outputs": [
        {
          "output_type": "display_data",
          "data": {
            "image/png": "[encoded data removed]",
            "text/plain": [
              "<Figure size 432x288 with 1 Axes>"
            ]
          },
          "metadata": {}
        }
      ]
    },
    {
      "cell_type": "code",
      "metadata": {
        "id": "DUAv33USeU5d",
        "colab": {
          "base_uri": "https://localhost:8080/",
          "height": 299
        },
        "outputId": "7f5f85d9-44fa-43e3-a39c-2a7655cfd4a0"
      },
      "source": [
        "plt.style.use(\"ggplot\")\n",
        "plt.figure()\n",
        "plt.plot(np.arange(0, 100), history.history[\"acc\"], label=\"train_acc\")\n",
        "plt.plot(np.arange(0, 100), history.history[\"val_acc\"], label=\"val_acc\")\n",
        "plt.title(\"Accuracy Plot\")\n",
        "plt.xlabel(\"Epoch #\")\n",
        "plt.ylabel(\"Acc\")\n",
        "plt.legend()\n",
        "plt.show()"
      ],
      "execution_count": 13,
      "outputs": [
        {
          "output_type": "display_data",
          "data": {
            "image/png": "[encoded data removed]",
            "text/plain": [
              "<Figure size 432x288 with 1 Axes>"
            ]
          },
          "metadata": {}
        }
      ]
    },
    {
      "cell_type": "code",
      "metadata": {
        "id": "9snzgijVecOG"
      },
      "source": [
        "from sklearn.metrics import classification_report, confusion_matrix"
      ],
      "execution_count": 14,
      "outputs": []
    },
    {
      "cell_type": "code",
      "metadata": {
        "id": "TqO-ZdGwefcL"
      },
      "source": [
        "def evaluate(model):\n",
        "\n",
        "  validation_generator = validation_datagen.flow_from_directory(\n",
        "          base_dir, \n",
        "          target_size=(150,150), \n",
        "          batch_size=32, \n",
        "          class_mode='categorical',\n",
        "          shuffle = False,\n",
        "          subset='validation')\n",
        "\n",
        "  batch_size = 32\n",
        "  num_of_test_samples = len(validation_generator.filenames)\n",
        "\n",
        "  Y_pred = model.predict_generator(validation_generator, num_of_test_samples // batch_size+1)\n",
        "  y_pred = np.argmax(Y_pred, axis=1)\n",
        "\n",
        "  print('\\nConfusion Matrix\\n')\n",
        "  print(confusion_matrix(validation_generator.classes, y_pred))\n",
        "\n",
        "\n",
        "  print('\\n\\nClassification Report\\n')\n",
        "  target_names = ['1', '2', '3']\n",
        "  print(classification_report(validation_generator.classes, y_pred, target_names=target_names))"
      ],
      "execution_count": 15,
      "outputs": []
    },
    {
      "cell_type": "code",
      "metadata": {
        "id": "Ogz1nCJnehtq",
        "colab": {
          "base_uri": "https://localhost:8080/"
        },
        "outputId": "4eef3490-d458-4d9d-aa41-b05f801180bb"
      },
      "source": [
        "evaluate(model)"
      ],
      "execution_count": 16,
      "outputs": [
        {
          "output_type": "stream",
          "name": "stdout",
          "text": [
            "Found 305 images belonging to 3 classes.\n"
          ]
        },
        {
          "output_type": "stream",
          "name": "stderr",
          "text": [
            "/usr/local/lib/python3.7/dist-packages/ipykernel_launcher.py:14: UserWarning: `Model.predict_generator` is deprecated and will be removed in a future version. Please use `Model.predict`, which supports generators.\n",
            "  \n"
          ]
        },
        {
          "output_type": "stream",
          "name": "stdout",
          "text": [
            "\n",
            "Confusion Matrix\n",
            "\n",
            "[[ 61   5   4]\n",
            " [  9 132   1]\n",
            " [  4   0  89]]\n",
            "\n",
            "\n",
            "Classification Report\n",
            "\n",
            "              precision    recall  f1-score   support\n",
            "\n",
            "           1       0.82      0.87      0.85        70\n",
            "           2       0.96      0.93      0.95       142\n",
            "           3       0.95      0.96      0.95        93\n",
            "\n",
            "    accuracy                           0.92       305\n",
            "   macro avg       0.91      0.92      0.92       305\n",
            "weighted avg       0.93      0.92      0.93       305\n",
            "\n"
          ]
        }
      ]
    },
    {
      "cell_type": "code",
      "source": [
        "import pathlib\n",
        "export_dir = 'saved_model/'\n",
        "tf.saved_model.save(model, export_dir)\n",
        " \n",
        "# Convert SavedModel menjadi vegs.tflite\n",
        "converter = tf.lite.TFLiteConverter.from_saved_model(export_dir)\n",
        "tflite_model = converter.convert()\n",
        " \n",
        "tflite_model_file = pathlib.Path('model_cnn.tflite')\n",
        "tflite_model_file.write_bytes(tflite_model)"
      ],
      "metadata": {
        "id": "CIvPBOuRDC4V",
        "outputId": "076a1cb8-2060-4f11-aa28-581c65169ebd",
        "colab": {
          "base_uri": "https://localhost:8080/"
        }
      },
      "execution_count": 18,
      "outputs": [
        {
          "output_type": "stream",
          "name": "stdout",
          "text": [
            "INFO:tensorflow:Assets written to: saved_model/assets\n"
          ]
        },
        {
          "output_type": "stream",
          "name": "stderr",
          "text": [
            "INFO:tensorflow:Assets written to: saved_model/assets\n",
            "WARNING:absl:Buffer deduplication procedure will be skipped when flatbuffer library is not properly loaded\n"
          ]
        },
        {
          "output_type": "execute_result",
          "data": {
            "text/plain": [
              "13820796"
            ]
          },
          "metadata": {},
          "execution_count": 18
        }
      ]
    },
    {
      "cell_type": "code",
      "metadata": {
        "id": "wKyESDLEaYST"
      },
      "source": [
        "model.save('model.h5')"
      ],
      "execution_count": 19,
      "outputs": []
    }
  ]
}